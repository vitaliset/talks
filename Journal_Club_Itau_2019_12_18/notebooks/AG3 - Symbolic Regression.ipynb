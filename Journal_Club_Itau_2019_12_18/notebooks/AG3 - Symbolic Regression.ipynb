{
 "cells": [
  {
   "cell_type": "code",
   "execution_count": 3,
   "metadata": {},
   "outputs": [],
   "source": [
    "from gplearn.genetic import SymbolicRegressor"
   ]
  },
  {
   "cell_type": "code",
   "execution_count": 4,
   "metadata": {},
   "outputs": [],
   "source": [
    "import pandas as pd\n",
    "import numpy as np\n",
    "import matplotlib.pyplot as plt"
   ]
  },
  {
   "cell_type": "code",
   "execution_count": 28,
   "metadata": {},
   "outputs": [],
   "source": [
    "N=100\n",
    "sigma_squared = 0.2\n",
    "\n",
    "def funcao(x):\n",
    "    return 0.6*x**3 - x**2 + 2 -x+ 0.3*np.cos(12*x)"
   ]
  },
  {
   "cell_type": "code",
   "execution_count": 29,
   "metadata": {},
   "outputs": [
    {
     "data": {
      "image/png": "[encoded data removed]",
      "text/plain": [
       "<Figure size 432x288 with 1 Axes>"
      ]
     },
     "metadata": {
      "needs_background": "light"
     },
     "output_type": "display_data"
    }
   ],
   "source": [
    "X=[]\n",
    "y=[]\n",
    "\n",
    "for i in range(N):\n",
    "    aux=np.random.uniform(-2,2)\n",
    "    X.append([aux])\n",
    "    y.append([funcao(aux) + np.random.normal(0,sigma_squared)])\n",
    "    \n",
    "    \n",
    "plt.scatter(X,y, s=10, color = 'black')\n",
    "plt.plot(np.linspace(-2,2,500),funcao(np.linspace(-2,2,500)))\n",
    "\n",
    "plt.tight_layout()\n",
    "\n",
    "plt.savefig('exemp')"
   ]
  },
  {
   "cell_type": "code",
   "execution_count": 30,
   "metadata": {},
   "outputs": [
    {
     "name": "stderr",
     "output_type": "stream",
     "text": [
      "/home/carlo/anaconda3/lib/python3.7/site-packages/sklearn/utils/validation.py:761: DataConversionWarning: A column-vector y was passed when a 1d array was expected. Please change the shape of y to (n_samples, ), for example using ravel().\n",
      "  y = column_or_1d(y, warn=True)\n"
     ]
    },
    {
     "data": {
      "text/plain": [
       "SymbolicRegressor(const_range=(-1.0, 1.0), feature_names=None,\n",
       "         function_set=('add', 'sub', 'mul', 'div'), generations=20,\n",
       "         init_depth=(2, 6), init_method='half and half', low_memory=False,\n",
       "         max_samples=1.0, metric='mean absolute error', n_jobs=1,\n",
       "         p_crossover=0.9, p_hoist_mutation=0.01, p_point_mutation=0.01,\n",
       "         p_point_replace=0.05, p_subtree_mutation=0.01,\n",
       "         parsimony_coefficient=0.001, population_size=1000,\n",
       "         random_state=None, stopping_criteria=0.0, tournament_size=20,\n",
       "         verbose=0, warm_start=False)"
      ]
     },
     "execution_count": 30,
     "metadata": {},
     "output_type": "execute_result"
    }
   ],
   "source": [
    "est_gp = SymbolicRegressor()\n",
    "\n",
    "est_gp.fit(X,y)"
   ]
  },
  {
   "cell_type": "code",
   "execution_count": 31,
   "metadata": {},
   "outputs": [
    {
     "data": {
      "text/plain": [
       "0.24607906154381184"
      ]
     },
     "execution_count": 31,
     "metadata": {},
     "output_type": "execute_result"
    }
   ],
   "source": [
    "from sklearn.metrics import mean_absolute_error\n",
    "\n",
    "mean_absolute_error(y,est_gp.predict(X))"
   ]
  },
  {
   "cell_type": "code",
   "execution_count": 32,
   "metadata": {},
   "outputs": [
    {
     "name": "stdout",
     "output_type": "stream",
     "text": [
      "sub(sub(sub(add(div(X0, X0), div(X0, X0)), mul(X0, X0)), mul(add(div(X0, X0), div(X0, X0)), mul(sub(sub(add(div(X0, X0), div(X0, X0)), mul(X0, X0)), mul(div(add(X0, X0), sub(X0, X0)), mul(div(-0.374, 0.786), sub(div(X0, X0), mul(X0, X0))))), mul(X0, 0.213)))), mul(div(mul(X0, 0.213), 0.786), mul(X0, 0.213)))\n"
     ]
    }
   ],
   "source": [
    "print(est_gp._program)"
   ]
  },
  {
   "cell_type": "code",
   "execution_count": null,
   "metadata": {},
   "outputs": [],
   "source": []
  }
 ],
 "metadata": {
  "kernelspec": {
   "display_name": "Python 3",
   "language": "python",
   "name": "python3"
  },
  "language_info": {
   "codemirror_mode": {
    "name": "ipython",
    "version": 3
   },
   "file_extension": ".py",
   "mimetype": "text/x-python",
   "name": "python",
   "nbconvert_exporter": "python",
   "pygments_lexer": "ipython3",
   "version": "3.7.3"
  }
 },
 "nbformat": 4,
 "nbformat_minor": 2
}
