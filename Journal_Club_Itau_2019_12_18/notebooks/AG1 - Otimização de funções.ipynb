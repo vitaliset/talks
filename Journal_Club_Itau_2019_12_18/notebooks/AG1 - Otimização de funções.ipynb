{
 "cells": [
  {
   "cell_type": "markdown",
   "metadata": {},
   "source": [
    "Toy model pra Algoritmo Genético enfim kk"
   ]
  },
  {
   "cell_type": "code",
   "execution_count": 1,
   "metadata": {},
   "outputs": [],
   "source": [
    "import numpy as np\n",
    "import math\n",
    "import matplotlib.pyplot as plt"
   ]
  },
  {
   "cell_type": "code",
   "execution_count": 2,
   "metadata": {},
   "outputs": [
    {
     "data": {
      "image/png": "[encoded data removed]",
      "text/plain": [
       "<Figure size 432x288 with 1 Axes>"
      ]
     },
     "metadata": {
      "needs_background": "light"
     },
     "output_type": "display_data"
    }
   ],
   "source": [
    "grid = np.linspace(0,31,500)\n",
    "\n",
    "def funcao(x):\n",
    "    return x**2\n",
    "\n",
    "y=funcao(grid)\n",
    "\n",
    "plt.xlabel('x')\n",
    "\n",
    "plt.plot(grid,y, label='f(x)')\n",
    "plt.plot([0,31],[funcao(31), funcao(31)], label='Máximo da função')\n",
    "plt.legend()\n",
    "plt.tight_layout()\n",
    "\n",
    "plt.savefig('funcao_1')"
   ]
  },
  {
   "cell_type": "code",
   "execution_count": 3,
   "metadata": {},
   "outputs": [],
   "source": [
    "numero_genes = 5\n",
    "taxa_mutacao = 0.05\n",
    "entrar_mut = 0.4\n",
    "\n",
    "class individuo:\n",
    "    \n",
    "    def __init__(self, filho = False, pai = False):\n",
    "        if not filho:\n",
    "            DNA_ = list( np.random.randint(2, size = numero_genes-2) ) +[0,0]\n",
    "            self.DNA=np.asarray(DNA_)\n",
    "            self.fitness()\n",
    "            \n",
    "        else:\n",
    "            aux=list(pai.DNA)\n",
    "            self.mutacao(aux)\n",
    "            self.fitness()        \n",
    "        \n",
    "    def mutacao(self, DNA_):\n",
    "        if np.random.binomial(size = 1, n = 1, p = entrar_mut)[0] == 1:\n",
    "            for i in range(numero_genes):\n",
    "                if np.random.binomial(size = 1, n = 1, p = 1 - taxa_mutacao)[0] == 0:\n",
    "                    DNA_[i] = 1 - DNA_[i]\n",
    "        self.DNA = np.asarray(DNA_)\n",
    "    \n",
    "    \n",
    "    def fitness(self):\n",
    "        auxiliar = 0\n",
    "        \n",
    "        for i in range(numero_genes):\n",
    "            auxiliar += self.DNA[i]*2**i\n",
    "        \n",
    "        self.valor = auxiliar\n",
    "        self.fitness = funcao(self.valor)\n",
    "        "
   ]
  },
  {
   "cell_type": "code",
   "execution_count": 4,
   "metadata": {},
   "outputs": [],
   "source": [
    "class populacao:\n",
    "    def __init__(self, tamanho_populacao):\n",
    "        self.pop = []\n",
    "        self.tamanho_populacao = tamanho_populacao\n",
    "        \n",
    "        for i in range(self.tamanho_populacao):\n",
    "            self.pop.append(individuo())\n",
    "        \n",
    "        self.geracao1 = True\n",
    "        self.fitness_list_pop()\n",
    "        self.prob_calc()\n",
    "\n",
    "    def prob_calc(self):\n",
    "        probabilidade = np.asarray(self.fitness_list_pop())\n",
    "        probabilidade = probabilidade/probabilidade.sum()\n",
    "        # probabilidade = probabilidade/probabilidade.sum()\n",
    "        \n",
    "        self.probabilidade=probabilidade\n",
    "    \n",
    "    def reproducao(self):        \n",
    "        populacao_nova = []\n",
    "        lista_pais = []\n",
    "        \n",
    "        for i in range(self.tamanho_populacao):\n",
    "            pai_number = np.random.choice(self.tamanho_populacao, p = self.probabilidade)\n",
    "            lista_pais.append(self.pop[pai_number].DNA)\n",
    "            populacao_nova.append(individuo(True, self.pop[pai_number])) \n",
    "        \n",
    "        self.pop = populacao_nova\n",
    "        self.lista_pais = lista_pais\n",
    "        self.geracao1 = False\n",
    "        self.fitness_list_pop()\n",
    "        self.prob_calc()\n",
    "        \n",
    "    def fitness_list_pop(self):\n",
    "        fitness_list=[]\n",
    "        for i in range(self.tamanho_populacao):\n",
    "            fitness_list.append(self.pop[i].fitness)\n",
    "        self.fitness_list=fitness_list\n",
    "        return fitness_list\n",
    "    \n",
    "    def fitness_max_pop(self):\n",
    "        return np.asarray(self.fitness_list).max()\n",
    "    \n",
    "    def fitness_min_pop(self):\n",
    "        return np.asarray(self.fitness_list).min()\n",
    "    \n",
    "    def fitness_mean_pop(self):\n",
    "        return np.asarray(self.fitness_list).mean()\n",
    "        \n",
    "    def show(self):\n",
    "        for i in range(self.tamanho_populacao):\n",
    "            ind = self.pop[i]\n",
    "            if self.geracao1:\n",
    "                print('indivíduo: '+str(ind.DNA)+', valor: '+ str(ind.valor) +', fitness: f(x)='+str(ind.fitness)+', probabilidade: '+str(self.probabilidade[i]))\n",
    "            else:\n",
    "                pai = self.lista_pais[i]\n",
    "                print('pai: '+str(pai)+', indivíduo: '+str(ind.DNA)+', valor: '+ str(ind.valor) +', fitness: f(x)='+str(ind.fitness)+', probabilidade: '+str(self.probabilidade[i]))\n",
    "            \n",
    "        #print('vetor de probabilidades: '+str(self.probabilidade))\n",
    "        print('_____________________________________________________________________\\n')\n",
    "        "
   ]
  },
  {
   "cell_type": "code",
   "execution_count": 5,
   "metadata": {},
   "outputs": [
    {
     "name": "stdout",
     "output_type": "stream",
     "text": [
      "POPULAÇÃO INICIAL\n",
      "indivíduo: [1 0 0 0 0], valor: 1, fitness: f(x)=1, probabilidade: 0.029411764705882353\n",
      "indivíduo: [0 1 0 0 0], valor: 2, fitness: f(x)=4, probabilidade: 0.11764705882352941\n",
      "indivíduo: [0 1 0 0 0], valor: 2, fitness: f(x)=4, probabilidade: 0.11764705882352941\n",
      "indivíduo: [0 0 0 0 0], valor: 0, fitness: f(x)=0, probabilidade: 0.0\n",
      "indivíduo: [1 0 1 0 0], valor: 5, fitness: f(x)=25, probabilidade: 0.7352941176470589\n",
      "indivíduo: [0 0 0 0 0], valor: 0, fitness: f(x)=0, probabilidade: 0.0\n",
      "_____________________________________________________________________\n",
      "\n",
      "GERAÇÃO 2\n",
      "pai: [1 0 1 0 0], indivíduo: [1 0 1 0 0], valor: 5, fitness: f(x)=25, probabilidade: 0.16666666666666666\n",
      "pai: [1 0 1 0 0], indivíduo: [1 0 1 0 0], valor: 5, fitness: f(x)=25, probabilidade: 0.16666666666666666\n",
      "pai: [1 0 1 0 0], indivíduo: [1 0 1 0 0], valor: 5, fitness: f(x)=25, probabilidade: 0.16666666666666666\n",
      "pai: [1 0 1 0 0], indivíduo: [1 0 1 0 0], valor: 5, fitness: f(x)=25, probabilidade: 0.16666666666666666\n",
      "pai: [1 0 1 0 0], indivíduo: [1 0 1 0 0], valor: 5, fitness: f(x)=25, probabilidade: 0.16666666666666666\n",
      "pai: [1 0 1 0 0], indivíduo: [1 0 1 0 0], valor: 5, fitness: f(x)=25, probabilidade: 0.16666666666666666\n",
      "_____________________________________________________________________\n",
      "\n",
      "GERAÇÃO 3\n",
      "pai: [1 0 1 0 0], indivíduo: [1 0 1 0 0], valor: 5, fitness: f(x)=25, probabilidade: 0.16666666666666666\n",
      "pai: [1 0 1 0 0], indivíduo: [1 0 1 0 0], valor: 5, fitness: f(x)=25, probabilidade: 0.16666666666666666\n",
      "pai: [1 0 1 0 0], indivíduo: [1 0 1 0 0], valor: 5, fitness: f(x)=25, probabilidade: 0.16666666666666666\n",
      "pai: [1 0 1 0 0], indivíduo: [1 0 1 0 0], valor: 5, fitness: f(x)=25, probabilidade: 0.16666666666666666\n",
      "pai: [1 0 1 0 0], indivíduo: [1 0 1 0 0], valor: 5, fitness: f(x)=25, probabilidade: 0.16666666666666666\n",
      "pai: [1 0 1 0 0], indivíduo: [1 0 1 0 0], valor: 5, fitness: f(x)=25, probabilidade: 0.16666666666666666\n",
      "_____________________________________________________________________\n",
      "\n",
      "GERAÇÃO 4\n",
      "pai: [1 0 1 0 0], indivíduo: [1 0 1 0 0], valor: 5, fitness: f(x)=25, probabilidade: 0.14367816091954022\n",
      "pai: [1 0 1 0 0], indivíduo: [1 0 1 0 0], valor: 5, fitness: f(x)=25, probabilidade: 0.14367816091954022\n",
      "pai: [1 0 1 0 0], indivíduo: [1 0 1 0 0], valor: 5, fitness: f(x)=25, probabilidade: 0.14367816091954022\n",
      "pai: [1 0 1 0 0], indivíduo: [1 1 1 0 0], valor: 7, fitness: f(x)=49, probabilidade: 0.28160919540229884\n",
      "pai: [1 0 1 0 0], indivíduo: [1 0 1 0 0], valor: 5, fitness: f(x)=25, probabilidade: 0.14367816091954022\n",
      "pai: [1 0 1 0 0], indivíduo: [1 0 1 0 0], valor: 5, fitness: f(x)=25, probabilidade: 0.14367816091954022\n",
      "_____________________________________________________________________\n",
      "\n",
      "GERAÇÃO 8\n",
      "pai: [0 0 1 1 0], indivíduo: [0 0 1 1 1], valor: 28, fitness: f(x)=784, probabilidade: 0.4106862231534835\n",
      "pai: [1 1 1 1 0], indivíduo: [1 1 1 1 0], valor: 15, fitness: f(x)=225, probabilidade: 0.1178627553693033\n",
      "pai: [1 1 1 1 0], indivíduo: [1 1 1 1 0], valor: 15, fitness: f(x)=225, probabilidade: 0.1178627553693033\n",
      "pai: [1 1 1 1 0], indivíduo: [1 1 1 1 0], valor: 15, fitness: f(x)=225, probabilidade: 0.1178627553693033\n",
      "pai: [1 1 1 1 0], indivíduo: [1 1 1 1 0], valor: 15, fitness: f(x)=225, probabilidade: 0.1178627553693033\n",
      "pai: [1 1 1 1 0], indivíduo: [1 1 1 1 0], valor: 15, fitness: f(x)=225, probabilidade: 0.1178627553693033\n",
      "_____________________________________________________________________\n",
      "\n",
      "POPULAÇÃO FINAL\n",
      "pai: [1 1 1 1 1], indivíduo: [1 1 1 1 1], valor: 31, fitness: f(x)=961, probabilidade: 0.17026931254429484\n",
      "pai: [1 1 1 1 1], indivíduo: [1 1 1 1 1], valor: 31, fitness: f(x)=961, probabilidade: 0.17026931254429484\n",
      "pai: [0 1 1 1 1], indivíduo: [0 1 1 1 1], valor: 30, fitness: f(x)=900, probabilidade: 0.15946137491141035\n",
      "pai: [1 1 1 1 1], indivíduo: [1 1 1 1 1], valor: 31, fitness: f(x)=961, probabilidade: 0.17026931254429484\n",
      "pai: [1 1 1 1 1], indivíduo: [1 1 1 1 1], valor: 31, fitness: f(x)=961, probabilidade: 0.17026931254429484\n",
      "pai: [0 1 1 1 1], indivíduo: [0 1 1 1 1], valor: 30, fitness: f(x)=900, probabilidade: 0.15946137491141035\n",
      "_____________________________________________________________________\n",
      "\n"
     ]
    },
    {
     "data": {
      "image/png": "[encoded data removed]",
      "text/plain": [
       "<Figure size 432x288 with 1 Axes>"
      ]
     },
     "metadata": {
      "needs_background": "light"
     },
     "output_type": "display_data"
    }
   ],
   "source": [
    "pop = populacao(6)\n",
    "\n",
    "fitness_max_tempo=[]\n",
    "fitness_max_tempo.append(pop.fitness_max_pop())\n",
    "\n",
    "fitness_min_tempo=[]\n",
    "fitness_min_tempo.append(pop.fitness_min_pop())\n",
    "\n",
    "fitness_mean_tempo=[]\n",
    "fitness_mean_tempo.append(pop.fitness_mean_pop())\n",
    "\n",
    "print('POPULAÇÃO INICIAL')\n",
    "pop.show()\n",
    "\n",
    "numero_geracoes = 15\n",
    "\n",
    "for j in range(numero_geracoes-1):\n",
    "    pop.reproducao()\n",
    "    fitness_max_tempo.append(pop.fitness_max_pop())\n",
    "    fitness_min_tempo.append(pop.fitness_min_pop())\n",
    "    fitness_mean_tempo.append(pop.fitness_mean_pop())\n",
    "    \n",
    "    if j==1 or j==2 or j==3 or j==np.floor(numero_geracoes/2):\n",
    "        print('GERAÇÃO '+str(1+j))\n",
    "        pop.show()\n",
    "\n",
    "print('POPULAÇÃO FINAL')\n",
    "pop.show()\n",
    "\n",
    "plt.plot([0,numero_geracoes-1],[funcao(31), funcao(31)], label='Máximo de fitness')\n",
    "plt.plot(list(range(numero_geracoes)),fitness_max_tempo, label='Fitness máximo da população')\n",
    "plt.plot(list(range(numero_geracoes)),fitness_min_tempo, label='Fitness mínimo da população')\n",
    "plt.plot(list(range(numero_geracoes)),fitness_mean_tempo, label='Fitness médio da população')\n",
    "plt.xlabel('geração')\n",
    "\n",
    "plt.legend()\n",
    "plt.tight_layout()\n",
    "\n",
    "plt.savefig('fitness_time1')"
   ]
  },
  {
   "cell_type": "code",
   "execution_count": null,
   "metadata": {},
   "outputs": [],
   "source": []
  }
 ],
 "metadata": {
  "kernelspec": {
   "display_name": "Python 3",
   "language": "python",
   "name": "python3"
  },
  "language_info": {
   "codemirror_mode": {
    "name": "ipython",
    "version": 3
   },
   "file_extension": ".py",
   "mimetype": "text/x-python",
   "name": "python",
   "nbconvert_exporter": "python",
   "pygments_lexer": "ipython3",
   "version": "3.7.3"
  }
 },
 "nbformat": 4,
 "nbformat_minor": 2
}
