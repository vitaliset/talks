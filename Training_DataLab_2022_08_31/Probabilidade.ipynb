{
 "cells": [
  {
   "cell_type": "markdown",
   "metadata": {},
   "source": [
    "to do: condional/marginal + texto do KS"
   ]
  },
  {
   "cell_type": "code",
   "execution_count": 1,
   "metadata": {},
   "outputs": [],
   "source": [
    "import pandas as pd\n",
    "import numpy as np\n",
    "import matplotlib.pyplot as  plt\n",
    "import math\n",
    "import scipy\n",
    "\n",
    "pd.set_option('display.max_columns', None)"
   ]
  },
  {
   "cell_type": "markdown",
   "metadata": {},
   "source": [
    "É importante delimitar corretamente os resultados possíveis de processo que estamos analisando para não afirmar coisas que não são possíveis afirmar. Fazemos isso compreendendo bem probabilidade, o que ela mede, quais detalhes estão escondidos atrás da intuição e suas limitações.\n",
    "\n",
    "___"
   ]
  },
  {
   "cell_type": "markdown",
   "metadata": {},
   "source": [
    "# Definição de probabilidade"
   ]
  },
  {
   "cell_type": "markdown",
   "metadata": {},
   "source": [
    "## Intuição\n",
    "\n",
    "Imagine que queremos modelar o experimento de lançamento de um dado. Neste caso, os valores possíveis são $\\{ 1,2,3,4,5,6\\}$.\n",
    "\n",
    "A probabilidade responde qual a chance de acontecer um evento que é um **subconjunto** dos possíveis valores do **experimento aleatório**. Por exemplo, podemos estar interessados em entender qual a chance de o dado sair com a face para cima sendo um número par (isto é, qual a probabilidade de acontecer o subconjunto $\\{2,4,6\\}$ no experimento aleatório)."
   ]
  },
  {
   "cell_type": "markdown",
   "metadata": {},
   "source": [
    "## Definição a partir de objetos matemáticos\n",
    "\n",
    "**Definição (espaço amostral):** O **espaço amostral** $\\Omega$ de um experimento aleatório é o conjunto de todos os resultados possíveis. Os resultados possíveis são chamados de **pontos amostrais** $\\omega \\in \\Omega$ e incluem todas informações sobre o experimento."
   ]
  },
  {
   "cell_type": "markdown",
   "metadata": {},
   "source": [
    "**\"Definição\" (evento):** Um **evento** $E$ é um subconjunto do espaço amostral, isto é, $E\\in\\wp(\\Omega)$. Estes são os argumentos da nossa função de probabilidade: poderemos perguntar qual a probabilidade de um determinado evento ocorrer."
   ]
  },
  {
   "cell_type": "markdown",
   "metadata": {},
   "source": [
    "**Pergunta**: Imagine o experimento de lançamento de uma moeda. Qual é o espaço amostral e os possíveis eventos?"
   ]
  },
  {
   "cell_type": "markdown",
   "metadata": {},
   "source": [
    "- Os possíveis resultados são $\\omega = H$ ou $\\omega = T$, portanto $\\Omega = \\{ H, T \\}$.\n",
    "- Os eventos aqui são dados pelos conjuntos $\\varnothing$, $\\{H\\}$, $\\{T \\}$ e $\\{H,T\\}$."
   ]
  },
  {
   "cell_type": "markdown",
   "metadata": {},
   "source": [
    "Ainda não definimos o que é uma probabilidade. Ela vai ser algo que vai medir \"o quão provável um evento é de acontecer\". É esperado que ela satisfaça algumas condições razoáveis."
   ]
  },
  {
   "cell_type": "markdown",
   "metadata": {},
   "source": [
    "- Primeiro, a probabilidade precisa ser um valor entre $0$ e $1$.\n",
    "\n",
    "\n",
    "- Além disso, a probabilidade de algum dos resultados possíveis acontecer tem que ser 1. Isto é, a probabilidade do espaço amostral deve ser 1, pois ele é o conjunto de todos os resultados possíveis.\n",
    "\n",
    "- Por fim, se a probabilidade de, em um dado, tirar um $1$ é $3/10$ e a probabilidade de tirar $2$ é $1/10$ então a probabilidade de tirar $1$ ou $2$ deve ser $3/10+1/10=4/10$."
   ]
  },
  {
   "cell_type": "markdown",
   "metadata": {},
   "source": [
    "**\"Definição\" (probabildade):** Uma **probabilidade** $\\mathbb{P}$ é uma função com domínio no conjunto de eventos $\\wp(\\Omega)$ e contradomínio em $[0,1]$, isto é, $\\mathbb{P}:\\wp(\\Omega)\\to[0,1]$ que satisfaz as seguintes propriedades:\n",
    "\n",
    "$$\\mathbb{P}(\\Omega) = 1 \\textrm{, e }\\mathbb{P}\\left( E_1\\cup E_2\\right) = \\mathbb{P}\\left( E_1 \\right)  + \\mathbb{P}\\left( E_2 \\right),$$\n",
    "\n",
    "para $E_1$ e $E_2$ conjuntos disjuntos de $\\Omega$."
   ]
  },
  {
   "cell_type": "markdown",
   "metadata": {},
   "source": [
    "Suponha agora que jogue três moedas honestas. Qual é o espaço amostral, os possíveis eventos e a função de probabilidade?\n",
    "\n",
    "- Agora temos que $\\Omega = \\{ H , T \\}^3$ $= \\{(\\omega_1, \\omega_2, \\omega_3):\\omega_i\\in\\{H,T\\} \\}=$ $\\{ (H,H,H)$, $(T,H,H)$, $(H,T,H)$, $(H,H,T)$, $(H,T,T)$, $(T,H,T)$, $(T,T,H)$, $(T,T,T) \\}$.\n",
    "\n",
    "- Os eventos aqui são dados pelo conjunto das partes de $\\Omega$. Alguns exemplos são $\\varnothing$, $\\{ (H,T,H)\\}$, $\\{(H,H,H),(T,T,T)\\}$, $\\{ \\omega \\in \\Omega : \\textrm{primeiro lançamento é cara} \\}$.\n",
    "\n",
    "- A probabilidade de cada elemento individualmente de $\\Omega$ é $1/8$. A probabilidade de um evento qualquer é $1/8$ vezes o número de elementos naquele evento.\n"
   ]
  },
  {
   "cell_type": "markdown",
   "metadata": {},
   "source": [
    "## Comentários extras\n",
    "\n",
    "$\\oint$ *Probabilidade é um objeto matemático e usualmente é apresentado a partir das suas propriedades, maneira como fizemos aqui. Entretanto, os estatísticos bayesianos gostam de defini-lo como um objeto que quantificar uma [relação transitiva](https://pt.wikipedia.org/wiki/Rela%C3%A7%C3%A3o_transitiva) que representa um conceito de [crença](https://en.wikipedia.org/wiki/Bayesian_probability) sobre eventos possíveis. Essa é estratégia é um jeito de **matematizar de forma rigorosa a nossa intuição**. O livro [Optimal statistical decisions do De Groot](https://onlinelibrary.wiley.com/doi/book/10.1002/0471729000) é uma ótima referência para quem quiser conhecer isso melhor.*\n",
    "\n",
    "$\\oint$ *Na prática, dependendo das propriedades que você gostaria que sua probabilidade satisfaça, nem todo conjunto poderá ter probabilidade. Isso nos faz reduzir o domínio da probabilidade para um subconjunto $\\mathcal{F}$ do conjunto das partes. Esse subconjunto $\\mathcal{F}$ precisa satisfazer algumas propriedades razoáveis como $\\Omega \\in \\mathcal{F}$, $A \\in \\mathcal{F} \\implies A^C \\in \\mathcal{F}$ e é chamado de **$\\sigma$-álgebra**.*\n",
    "\n",
    "$\\oint$ *Alinhada com essa definição formal do domínio, a definição da probabilidade também muda. Na prática a gente precisa da $\\sigma$-aditividade, que significa que a probabilidade de uma união enumerável de conjuntos disjuntos é a soma infinita das probabilidades de cada um dos conjuntos:*\n",
    "$$\\mathbb{P}\\left( \\bigcup_{i=1}^\\infty E_i\\right) = \\sum_{i=1}^\\infty \\mathbb{P}\\left( E_i \\right).$$\n",
    "\n",
    "$\\oint$ *Não vou mais fazer esses comentários levando em conta $\\sigma$-algébras e outros aspectos mais formais, mas tenha em mente que todas as definições que estamos fazendo, inclusive quando falarmos de inferência estatística, são formalizadas por essa linguagem. Um ótimo recurso para começar a ver isso é o canal [A Ciência da Estatística](https://www.youtube.com/c/ACi%C3%AAnciadaEstat%C3%ADstica). Em um dos seus vídeos, o professor Alexandre Patriota [comenta sobre os diferentes níveis que podemos encarar a probabilidade](https://www.youtube.com/playlist?list=PL5Dg8nFln2eWW7K8GUHEGE1lSXiL151ii): **elementar**, **básico**, **intermediário** e **avançado** (essa nomeclatura não foi inventada, vide o ótimo livro do IMPA [Probabilidade: Um Curso em Nível Intermediário, do Barry James](https://impa.br/page-livros/probabilidade-um-curso-em-nivel-intermediario/)). Neste treinamento, trataremos os assuntos num nível básico, mas fica o convite para o estudo do nível intermediário (que vem com muita análise real, que é muito útil para encarar algoritmos numéricos).*\n",
    "\n",
    "___"
   ]
  },
  {
   "cell_type": "markdown",
   "metadata": {},
   "source": [
    "# Variáveis Aleatórias"
   ]
  },
  {
   "cell_type": "markdown",
   "metadata": {},
   "source": [
    "**\"Definição\" (variável aleatória):** Uma **variável aleatória** $X$ é uma função que sai do espaço amostral $\\Omega$ e chega na reta $\\mathbb{R}$, isto é, $X:\\Omega\\to\\mathbb{R}$. "
   ]
  },
  {
   "cell_type": "markdown",
   "metadata": {},
   "source": [
    "No exemplo anterior uma possível variável aleatória poderia ser o número de caras. Para cada elemento $\\omega= (\\omega_1, \\omega_2, \\omega_3) \\in \\Omega$, conto o número de vezes que ocorre $H$."
   ]
  },
  {
   "cell_type": "markdown",
   "metadata": {},
   "source": [
    "![](images_prob/random_variable_1.png)\n"
   ]
  },
  {
   "cell_type": "markdown",
   "metadata": {},
   "source": [
    "Uma outra possível seria\n",
    "\n",
    "$$X(\\omega_1, \\omega_2, \\omega_3) = \\begin{cases}\n",
    "    1, \\textrm{ se }\\omega_1=\\omega_2=\\omega_3,\\\\\n",
    "    0, \\textrm{ caso contrário.}\n",
    "    \\end{cases}$$"
   ]
  },
  {
   "cell_type": "markdown",
   "metadata": {},
   "source": [
    "![](images_prob/random_variable_2.png)\n"
   ]
  },
  {
   "cell_type": "markdown",
   "metadata": {},
   "source": [
    "Como uma variável aleatória é uma função é possível falar sobre sua pré-imagem!\n",
    "\n",
    "Por exemplo, repare que $X^{-1}({1}) = \\{\\omega \\in \\Omega : X(\\omega) = 1 \\} = \\{ (H,H,H), (T,T,T) \\}$. Essa pré-imagem nos permite fazer formalizar probabilidade diretamente no contradomínio da nossa função, a reta real.\n",
    "\n",
    "____"
   ]
  },
  {
   "cell_type": "markdown",
   "metadata": {},
   "source": [
    "# Probabilidade induzida"
   ]
  },
  {
   "cell_type": "markdown",
   "metadata": {},
   "source": [
    "A probabilidade definida em $\\Omega$ se transfere de maneira natural para $\\mathbb{R}$!\n",
    "\n",
    "Por exemplo, no caso anterior de lançamento de 3 moedas, se $X=$ número de caras. Para entender a probabilidade de $X$ ser igual a $2$, simplesmente olho para a pré-imagem de $2$ em $\\Omega$, ou seja, os $\\omega\\in\\Omega$ tais que $X(\\omega)=2$ e vejo qual a probabilidade desse evento!"
   ]
  },
  {
   "cell_type": "markdown",
   "metadata": {},
   "source": [
    "Temos que $\\{ \\omega \\in \\Omega: X(\\omega) = 2\\} =  \\{ (H,H,T), (H,T,H), (T,H,H) \\}$"
   ]
  },
  {
   "cell_type": "markdown",
   "metadata": {},
   "source": [
    "Com isso podemos definir\n",
    "\n",
    "$$\\mathbb{P}_{\\mathbb{R}}(X=2) = \\mathbb{P}(\\{ \\omega \\in \\Omega: X(\\omega) = 2\\}) =\n",
    "\\mathbb{P}(\\{ (H,H,T), (H,T,H), (T,H,H) \\}) =\\\\= \\mathbb{P}(\\{(H,H,T)\\}) +  \\mathbb{P}(\\{(H,H,T)\\}) +  \\mathbb{P}(\\{(H,H,T)\\}) = 3 \\cdot \\frac{1}{8}.$$"
   ]
  },
  {
   "cell_type": "markdown",
   "metadata": {},
   "source": [
    "De forma análoga podemos definir probabilidade para subconjuntos de números reais agora! Em particular, vamos estar bastante interessados em medir a probabilidade de intervalos!"
   ]
  },
  {
   "cell_type": "markdown",
   "metadata": {},
   "source": [
    "Podemos fazer então a função $\\mathbb{P}_X:\\wp(\\mathbb{R})\\to [0,1]$ que recebe um conjunto da reta, vê quais são os valores de $\\Omega$ que são mapeados dentro daquele conjunto e então calcula a probabilidade desse conjunto!"
   ]
  },
  {
   "cell_type": "markdown",
   "metadata": {},
   "source": [
    "Seja $A\\subset \\mathbb{R}$, podemos fazer\n",
    "\n",
    "$$    \\mathbb{P}_{X}(A) = \\mathbb{P}(\\{ \\omega \\in \\Omega: X(\\omega) \\in A\\}).$$\n",
    "\n",
    "___"
   ]
  },
  {
   "cell_type": "markdown",
   "metadata": {},
   "source": [
    "# Função densidade acumulada (fda) e função densidade de probabilidade (fdp)"
   ]
  },
  {
   "cell_type": "markdown",
   "metadata": {},
   "source": [
    "Alguns intervalos importantes são os da forma $(-\\infty, t]$. Por exemplo, no caso anterior, poderíamos querer calcular a probabilidade de o número de caras ser menor ou igual a 1."
   ]
  },
  {
   "cell_type": "markdown",
   "metadata": {},
   "source": [
    "Como fizemos no caso anterior, vamos olhar para quais valores do espaço amostral que são mapeados pela nossa variável aleatória em valores menores ou iguais a 1. Escrevendo na forma de conjunto temos\n",
    "\n",
    "$$\n",
    "    \\{ \\omega \\in \\Omega: X(\\omega) \\leq1 \\} =  \\{ (T,T,T), (H,T,T), (T,H,T), (T,T,H) \\}.$$"
   ]
  },
  {
   "cell_type": "markdown",
   "metadata": {},
   "source": [
    "E daí a probabilidade\n",
    "\n",
    "$$\n",
    "    \\mathbb{P}_{X}((-\\infty,1]) = \\mathbb{P}(\\{ \\omega \\in \\Omega: X(\\omega) \\leq1 \\}) = 4 \\cdot \\frac{1}{8}.$$"
   ]
  },
  {
   "cell_type": "markdown",
   "metadata": {},
   "source": [
    "De fato, os conjuntos do tipo $(-\\infty, t]$ são tão importantes que definimos uma função chamada **função distribuição acumulada** que é dada por\n",
    "\n",
    "$$\n",
    "    F_X(t) = \\mathbb{P}_{X}((-\\infty,t]) = \\mathbb{P}(\\{ \\omega \\in \\Omega: X(\\omega) \\leq t \\}) .$$"
   ]
  },
  {
   "cell_type": "markdown",
   "metadata": {},
   "source": [
    "![](images_prob/cumulative_probability.png)\n"
   ]
  },
  {
   "cell_type": "markdown",
   "metadata": {},
   "source": [
    "Os possíveis valores que uma variável aleatória pode assumir é chamado de **suporte** e muitas vezes é representado por $\\mathfrak{X}$.\n",
    "\n",
    "Nos problemas que estamos analisando até agora, estamos trabalhando com um número contável de valores possíveis para a variável aleatória. Neste caso podemos calcular a probabilidade desses eventos unitários. Guardar eles pode ser útil pois são os únicos valores possíveis que tem \"massa\".\n"
   ]
  },
  {
   "cell_type": "markdown",
   "metadata": {},
   "source": [
    "A **função de massa de probabilidade** (também chamada de função densidade de probabilidade) nesse caso pode ser escrita como\n",
    "\n",
    "\\begin{equation*}\n",
    "    F_X(t) = \\sum_{\\substack{x\\in \\mathfrak{X}\\\\ x \\leq t}} \\mathbb{P}(X=x) \n",
    "\\end{equation*}\n",
    "\n",
    "Dizemos que nossa variável aleatória é **discreta**."
   ]
  },
  {
   "cell_type": "markdown",
   "metadata": {},
   "source": [
    "Em alguns casos poderemos escrever $F_X(t)$ na forma\n",
    "\n",
    "\\begin{equation*}\n",
    "    F_X(t) = \\int_{-\\infty}^t f_X(x) \\, dx,\n",
    "\\end{equation*}\n",
    "\n",
    "e $f_X$ será chamada de **densidade de probabilidade** $X$ e diremos que nossa variável aleatória é **absolutamente contínua**."
   ]
  },
  {
   "cell_type": "markdown",
   "metadata": {},
   "source": [
    "![](images_prob/continuous_random_variable_1.png)\n"
   ]
  },
  {
   "cell_type": "markdown",
   "metadata": {},
   "source": [
    "![](images_prob/continuous_random_variable_2.png)\n"
   ]
  },
  {
   "cell_type": "markdown",
   "metadata": {},
   "source": [
    "Com a função densidade de probabilidade acumulada podemos calcular a probabilidade de intervalos:\n",
    "\n",
    "\\begin{equation*}\n",
    "    \\mathbb{P}_{X}((t_1,t_2]) =  \\mathbb{P}_{X}((-\\infty,t_2]) - \\mathbb{P}_{X}((-\\infty,t_1]) = F_X(t_2) - F_X(t1).\n",
    "\\end{equation*}\n",
    "\n",
    "No caso discreto ficamos com\n",
    "\n",
    "\\begin{equation*}\n",
    "    \\mathbb{P}_{X}((t_1,t_2]) = \\sum_{\\substack{x\\in \\mathfrak{X}\\\\ t_1<x \\leq t_2}} \\mathbb{P}(X=x) ,\n",
    "\\end{equation*}\n",
    "\n",
    "e no caso contínuo temos\n",
    "\n",
    "\\begin{equation*}\n",
    "    \\mathbb{P}_{X}((t_1,t_2]) = \\int_{t_1}^{t_2} f_X(x) \\, dx.\n",
    "\\end{equation*}\n",
    "\n",
    "___"
   ]
  },
  {
   "cell_type": "markdown",
   "metadata": {},
   "source": [
    "# Distribuições clássicas: suas funções (densidade) de probabilidade"
   ]
  },
  {
   "cell_type": "markdown",
   "metadata": {},
   "source": [
    "Diferentes variáveis aleatórias terão funções de massa ou funções de densidade de probabilidade diferentes."
   ]
  },
  {
   "cell_type": "markdown",
   "metadata": {},
   "source": [
    "## Discretas"
   ]
  },
  {
   "cell_type": "markdown",
   "metadata": {},
   "source": [
    "Dizemos que uma variável aleatória $X$ discreta tem distribuição **Bernoulli** de parâmetro $p\\in(0,1)$ ($X\\sim \\textrm{Bernoulli}(p)$) quando \n",
    "\n",
    "\\begin{equation*}\n",
    " \\mathbb{P}(X=k)=p^k(1-p)^{k-1} \\textrm{ se }k\\in\\{0,1\\}\\textrm{, e }0,\\textrm{ caso contrário.}\n",
    "\\end{equation*}"
   ]
  },
  {
   "cell_type": "markdown",
   "metadata": {},
   "source": [
    "Dizemos que uma variável aleatória $X$ discreta tem distribuição **Binomial** de parâmetros $n\\in\\mathbb{N}^*$ $p\\in(0,1)$ ($X\\sim \\textrm{Binomial}(n,p)$) \n",
    "\n",
    "\\begin{equation*}\n",
    " \\mathbb{P}(X=k)=\\left(\\begin{array}{c}n\\\\k\\end{array}\\right) p^k(1-p)^{n-k}.\n",
    "\\end{equation*}"
   ]
  },
  {
   "cell_type": "code",
   "execution_count": 2,
   "metadata": {
    "scrolled": true
   },
   "outputs": [
    {
     "data": {
      "image/png": "[encoded data removed]",
      "text/plain": [
       "<Figure size 432x288 with 1 Axes>"
      ]
     },
     "metadata": {
      "needs_background": "light"
     },
     "output_type": "display_data"
    }
   ],
   "source": [
    "for n, p in zip([40, 15, 20], [0.7, 0.5, 0.15]):\n",
    "    k = np.arange(0,41,1)\n",
    "    plt.plot(k, scipy.stats.binom.pmf(n=n, p=p, k=k), '-o', alpha=0.8, label=f\"{n=}, {p=}\")\n",
    "plt.legend()\n",
    "plt.show()"
   ]
  },
  {
   "cell_type": "markdown",
   "metadata": {},
   "source": [
    "Dizemos que uma variável aleatória $X$ discreta tem distribuição **Poisson** de parâmetros $\\mu > 0$ ($X\\sim \\textrm{Poisson}(\\mu)$) \n",
    "\n",
    "\\begin{equation*}\n",
    " \\mathbb{P}(X=k)=\\frac{e^{-\\mu}\\mu^k}{k!}.\n",
    "\\end{equation*}"
   ]
  },
  {
   "cell_type": "code",
   "execution_count": 3,
   "metadata": {},
   "outputs": [
    {
     "data": {
      "image/png": "[encoded data removed]",
      "text/plain": [
       "<Figure size 432x288 with 1 Axes>"
      ]
     },
     "metadata": {
      "needs_background": "light"
     },
     "output_type": "display_data"
    }
   ],
   "source": [
    "for mu in [1, 4, 10]:\n",
    "    k = np.arange(0,21,1)\n",
    "    plt.plot(k, scipy.stats.poisson.pmf(mu=mu, k=k), '-o', alpha=0.8, label=f\"{mu=}\")\n",
    "plt.legend()\n",
    "plt.show()"
   ]
  },
  {
   "cell_type": "markdown",
   "metadata": {},
   "source": [
    "# Contínuas"
   ]
  },
  {
   "cell_type": "markdown",
   "metadata": {},
   "source": [
    "Dizemos que uma variável aleatória $X$ contínua tem distribuição **uniforme** no intervalo $(a,b)$ para $a<b$, $a,b\\in\\mathbb{R}$ ($X\\sim \\textrm{Unif}(a,b)$) quando \n",
    "\n",
    "\\begin{equation*}\n",
    "f_X(x) = \\frac{1}{(b-a)}, \\textrm{ para }x\\in(a,b), \\textrm{ e } 0, \\textrm{ caso contrário.}\n",
    "\\end{equation*}\n"
   ]
  },
  {
   "cell_type": "code",
   "execution_count": 4,
   "metadata": {},
   "outputs": [
    {
     "data": {
      "image/png": "[encoded data removed]",
      "text/plain": [
       "<Figure size 432x288 with 1 Axes>"
      ]
     },
     "metadata": {
      "needs_background": "light"
     },
     "output_type": "display_data"
    }
   ],
   "source": [
    "for a, b in zip([0, 2, -3], [1, 2.5, 2.25]):\n",
    "    x = np.linspace(-3.5,3.5, 1000)\n",
    "    plt.plot(x, scipy.stats.uniform(loc=a, scale=b-a).pdf(x=x), alpha=0.8, label=f\"{a=}, {b=}\")\n",
    "plt.legend()\n",
    "plt.show()"
   ]
  },
  {
   "cell_type": "markdown",
   "metadata": {},
   "source": [
    "A variável aleatória $ X $ tem distribuição , se tiver função densidade de probabilidade dada por:\n",
    "Dizemos que uma variável aleatória $X$ contínua tem distribuição **Exponencial** com parâmetro $ \\lambda $, $ \\lambda > 0 $ ($X\\sim \\textrm{Exp}(\\lambda)$) quando \n",
    "\n",
    "\\begin{equation*}\n",
    "f_X(x) = \\left\\{\\begin{array}{l}\\lambda e^{-\\lambda x} \\ \\hbox{se} \\ x\\geq 0\\\\0 \\ \\hbox{se} \\ x \\ < \\ 0\\end{array}\\right.\n",
    "\\end{equation*}"
   ]
  },
  {
   "cell_type": "code",
   "execution_count": 5,
   "metadata": {},
   "outputs": [
    {
     "data": {
      "image/png": "[encoded data removed]",
      "text/plain": [
       "<Figure size 432x288 with 1 Axes>"
      ]
     },
     "metadata": {
      "needs_background": "light"
     },
     "output_type": "display_data"
    }
   ],
   "source": [
    "for lamda in [0.5, 1, 1.5]:\n",
    "    x = np.linspace(0, 6, 1000)\n",
    "    plt.plot(x, scipy.stats.expon(scale=1/lamda).pdf(x=x), alpha=0.8, label=f\"{lamda=}\")\n",
    "plt.legend()\n",
    "plt.show()"
   ]
  },
  {
   "cell_type": "markdown",
   "metadata": {},
   "source": [
    "Dizemos que uma variável aleatória $X$ contínua tem distribuição **Normal** de média $\\mu\\in\\mathbb{R}$ e variância $\\sigma^2>0$ ($X\\sim \\mathcal{N}(\\mu,\\sigma^2)$) quando \n",
    "\n",
    "\\begin{equation*}\n",
    "f_X(x) = \\frac{1}{\\sqrt{2\\pi\\sigma^2}}\\exp\\left[-\\frac{1}{2}\\left(\\frac{x-\\mu}{\\sigma}\\right)^2\\right]\n",
    "\\end{equation*}"
   ]
  },
  {
   "cell_type": "code",
   "execution_count": 6,
   "metadata": {},
   "outputs": [
    {
     "data": {
      "image/png": "[encoded data removed]",
      "text/plain": [
       "<Figure size 432x288 with 1 Axes>"
      ]
     },
     "metadata": {
      "needs_background": "light"
     },
     "output_type": "display_data"
    }
   ],
   "source": [
    "for mu, sigma in zip([20, 15, 25], [2, 1, 5]):\n",
    "    x = np.linspace(10, 30, 1000)\n",
    "    plt.plot(x, scipy.stats.norm(loc=mu, scale=sigma).pdf(x=x), alpha=0.8, label=f\"{mu=}, {sigma=}\")\n",
    "plt.legend()\n",
    "plt.show()"
   ]
  },
  {
   "cell_type": "markdown",
   "metadata": {},
   "source": [
    "## Calculando probabilidades de distribuições contínuas\n",
    "\n",
    "Calculando a probabilidade de um intervalo para a contínua utilizando a forma vista anteriormente:\n",
    "\n",
    "\\begin{equation*}\n",
    "    \\mathbb{P}_{X}((t_1,t_2]) = \\int_{t_1}^{t_2} f_X(x) \\, dx.\n",
    "\\end{equation*}\n",
    "\n",
    "![](images_prob/calc_prob_uniform.png)\n",
    "\n",
    "___"
   ]
  },
  {
   "cell_type": "markdown",
   "metadata": {},
   "source": [
    "# Esperança"
   ]
  },
  {
   "cell_type": "markdown",
   "metadata": {},
   "source": [
    "A **esperança** de uma variável aleatória é a soma ponderada pela distribuição. A intuição (que na verdade são formalizados por limites de convergência) é que se fizermos vários experimentos, obtendo diferentes valores de $X$, em média ficaremos próximos da esperança."
   ]
  },
  {
   "cell_type": "markdown",
   "metadata": {},
   "source": [
    "Para uma variável aleatória contínua temos\n",
    "\n",
    "\\begin{equation*}\n",
    "    \\mathbb{E}(X) = \\int_{-\\infty}^{\\infty} x \\,f_X(x)\\, dx,\n",
    "\\end{equation*}\n",
    "\n",
    "e para uma variável aleatória discreta fazemos\n",
    "\n",
    "\\begin{equation*}\n",
    "    \\mathbb{E}(X) = \\sum_{x\\in \\mathfrak{X}} x \\mathbb{P}(X=x).\n",
    "\\end{equation*}"
   ]
  },
  {
   "cell_type": "markdown",
   "metadata": {},
   "source": [
    "![](images_prob/expected_value_bernoulli.png)"
   ]
  },
  {
   "cell_type": "markdown",
   "metadata": {},
   "source": [
    "![](images_prob/expected_value_uniform.png)"
   ]
  },
  {
   "cell_type": "markdown",
   "metadata": {},
   "source": [
    "## Transformações de variáveis aleatórias\n",
    "\n",
    "Se tivermos uma função $g:\\mathbb{R}\\to\\mathbb{R}$ então podemos criar uma nova variável aleatória a partir de $X$, a composta $g(X)$. Repare que se X é uma função com domínio em $\\Omega$ e contradomínio $\\mathbb{R}$, então $g(X)$ também é dessa forma e por isso é uma variável aleatória no mesmo espaço."
   ]
  },
  {
   "cell_type": "markdown",
   "metadata": {},
   "source": [
    "Quando $g$ é uma função bijetora, é possível obter a distribuição de $Y = g(X)$ através do teorema da mudança de variáveis, que nos mostra como calcular a nova função densidade de probabilidade como\n",
    "$$f_Y(y) = f_X(g^{-1}(y)) \\left| \\frac{d}{dy} g^{-1}(y)\\right|.$$\n",
    "\n",
    "$\\oint$ *Se sua função não é bijetora, você precisa quebrar em regiões que o são (usualmente garantindo que a imagem é a mesma região). Um processo muito chato pra um matemático, como eu, que não gosta de fazer conta.*"
   ]
  },
  {
   "cell_type": "markdown",
   "metadata": {},
   "source": [
    "Parece complicado de calcular porque, na maior parte das vezes é. Para nossa sorte, se só estamos interessados na esperança da variável aleatória transformada, podemos calcular a **esperança de $g(X)$** a partir de $X$ fazendo\n",
    "\n",
    "\\begin{equation*}\n",
    "    \\mathbb{E}(g(X)) = \\int_{-\\infty}^{\\infty} g(x) \\,f_X(x)\\, dx,\n",
    "\\end{equation*}\n",
    "\n",
    "para o caso contínuo e \n",
    "\n",
    "\\begin{equation*}\n",
    "    \\mathbb{E}(X) = \\sum_{x\\in \\mathfrak{X}} g(x) \\mathbb{P}(X=x),\n",
    "\\end{equation*}\n",
    "\n",
    "para o caso discreto.\n",
    "\n",
    "___"
   ]
  },
  {
   "cell_type": "markdown",
   "metadata": {},
   "source": [
    "# Variância"
   ]
  },
  {
   "cell_type": "markdown",
   "metadata": {},
   "source": [
    "A última observação nos permite construir uma nova quantidade, a **variância**:\n",
    "\n",
    "\\begin{equation*}\n",
    "    \\textrm{Var}(X) = \\mathbb{E}( (X-\\mathbb{E}(X))^2).\n",
    "\\end{equation*}\n",
    "\n",
    "Quando ela é finita, podemos calculá-la fazendo $\\textrm{Var}(X)= \\mathbb{E}(X^2) - \\mathbb{E}(X)^2$. Essa quantidade é utilizada como **medida de dispersão da variável aleatória** (estamos medindo o quanto, em média, nossa variável aleatória está distante do seu ponto \"central\", a esperança/média)."
   ]
  },
  {
   "cell_type": "markdown",
   "metadata": {},
   "source": [
    "![](images_prob/variance_uniform.png)"
   ]
  },
  {
   "cell_type": "markdown",
   "metadata": {},
   "source": [
    "![](images_prob/variance_uniform_2.png)\n",
    "\n",
    "___"
   ]
  },
  {
   "cell_type": "markdown",
   "metadata": {},
   "source": [
    "# Vetor aleatório e densidade de probabilidade conjunta\n",
    "\n",
    "**\"Definição\" (vetor aleatório)**: Dizemos que $\\tilde{X} = (X_1,X_2,\\cdots,X_n)$ é um **vetor aleatório** se cada uma de suas componentes é uma variável aleatória. Ou equivalentemente, $\\tilde{X}:\\Omega\\to\\mathbb{R}^n$."
   ]
  },
  {
   "cell_type": "markdown",
   "metadata": {},
   "source": [
    "As noções de variáveis aleatórias se extendem para vetores aleatórios. Podemos definir a esperança de um vetor aleatório como a esperança de cada uma de suas componentes. Outras quantidades se extende analogamente e conseguimos calcular outras medidas nesse contexto, como covariância etc."
   ]
  },
  {
   "cell_type": "markdown",
   "metadata": {},
   "source": [
    "Uma quantidade interessante que também está presente no contexto de vetores aleatórios são as funções massa de probabilidade e densidade de probabilidade. A ideia agora que muda é que ao invés de calcular $\\mathbb{P}(X=x)$, estamos calculando $\\mathbb{P}(\\tilde{X}=\\tilde{x})= \\mathbb{P}(X_1=x_1,\\cdots,X_n=x_n)$.\n",
    "\n",
    "A função densidade de probabilidade que antes tinha como domínio a reta, agora tem como domínio $\\mathbb{R}^n$. Antes sua integral na reta tinha que ser 1 para ser uma função válida. Agora sua integral em $\\mathbb{R}^n$ precisa ser 1."
   ]
  },
  {
   "cell_type": "markdown",
   "metadata": {},
   "source": [
    "**Exemplo:**\n",
    "\n",
    "![](images_prob/random_vector_dist.png)\n",
    "\n",
    "___"
   ]
  },
  {
   "cell_type": "markdown",
   "metadata": {},
   "source": [
    "# Independência entre variáveis aleatórias\n",
    "\n",
    "**Definição** (independência entre variáveis aleatórias): Dizemos que variáveis aleatórias $X_1$ e $X_2$ são **independentes** se suas funções (densidade) de probabilidades se fatoram no produto, isto é,\n",
    "\n",
    "$$ f_{\\tilde{X}}(\\tilde{x}) = f_{(X_1,X_2)}(x_1,x_2) = f_{X_1}(x_1) \\cdot f_{X_2}(x_2),$$\n",
    "\n",
    "ou\n",
    "\n",
    "$$ \\mathbb{P}(\\tilde{X}=\\tilde{x}) = \\mathbb{P}(X_1=x_1,X_2=x_2) = \\mathbb{P}(X_1=x_1)\\cdot\\mathbb{P}(X_2=x_2).$$"
   ]
  },
  {
   "cell_type": "markdown",
   "metadata": {},
   "source": [
    "![](images_prob/random_vector_ind.png)\n",
    "\n",
    "____"
   ]
  },
  {
   "cell_type": "markdown",
   "metadata": {},
   "source": [
    "# Probabilidade Condicional e Marginal\n",
    "\n",
    "um exemplo com continha explicita ????????\n",
    "\n",
    "___"
   ]
  },
  {
   "cell_type": "markdown",
   "metadata": {},
   "source": [
    "# Derivada de Radon–Nikodym\n",
    "\n",
    "Em muitos casos práticos, estaremos em um problema em que vamos querer calcular valores (como a esperança) para alguma variável aleatória, entretanto não teremos acesso a ela por completo. Para exemplificar, imagine que temos acesso a uma amostra com um **viés de seleção** alto (exemplo: só temos a marcação de inadimplência ou não para pessoas que foram atrás de um empréstimo no passado de fato foram aprovadas no processo de análise de crédito anterior).\n",
    "\n",
    "Mas em alguns casos, vamos querer inferir informações gerais para uma população que não temos acesso."
   ]
  },
  {
   "cell_type": "code",
   "execution_count": 7,
   "metadata": {},
   "outputs": [],
   "source": [
    "def radon_nik_example(p=[0.4, 0.3, 0.3], size=10000):\n",
    "    map_dic = {'18-30': 0.6, '31-50': 0.3, '>50': 0.5}\n",
    "    x = np.random.RandomState(42).choice(['18-30', '31-50', '>50'], p=p, size=size)\n",
    "    y = np.array(list(map(lambda x: np.random.binomial(1, map_dic[x]), x)))\n",
    "    return x, y\n",
    "\n",
    "x_real, y_real = radon_nik_example()\n",
    "x_obs, y_obs = radon_nik_example([0.1, 0.7, 0.2])"
   ]
  },
  {
   "cell_type": "code",
   "execution_count": 8,
   "metadata": {},
   "outputs": [
    {
     "data": {
      "image/png": "[encoded data removed]",
      "text/plain": [
       "<Figure size 432x288 with 1 Axes>"
      ]
     },
     "metadata": {
      "needs_background": "light"
     },
     "output_type": "display_data"
    }
   ],
   "source": [
    "def plot_hist(x, label):\n",
    "    unique, counts = np.unique(x, return_counts=True)\n",
    "    plt.barh(unique, counts, alpha=0.7, label=label)\n",
    "\n",
    "plot_hist(x_real, 'real')\n",
    "plot_hist(x_obs, 'observado')\n",
    "plt.legend()\n",
    "plt.show()"
   ]
  },
  {
   "cell_type": "markdown",
   "metadata": {},
   "source": [
    "Imaginque o nosso problema é estimar a média de $Y$ da população \"real\". Será que é possível fazer inferência sobre `y_real` utilizando `x_real`, `x_obs` e `y_obs`?\n",
    "\n",
    "Suponha que $Y_r$ é uma tranformação sem componentes aleatórias de $X_r$ da forma $Y_r=g(X_r)$. Neste caso, calcular a esperança de $Y_r$ é da forma\n",
    "\n",
    "\\begin{equation*}\n",
    "    \\mathbb{E}(g(X_r)) = \\sum_{x\\in \\mathfrak{X}} g(x) \\mathbb{P}(X_r=x).\n",
    "\\end{equation*}\n",
    "\n",
    "Para simplificar a notação, vamos chamar $f_r(x) = \\mathbb{P}(X_r=x)$. Então\n",
    "\n",
    "\\begin{equation*}\n",
    "    \\mathbb{E}(g(X_r)) = g(\\textrm{'18-30'}) f_r(\\textrm{'18-30'}) + g(\\textrm{'31-50'}) f_r(\\textrm{'31-50'}) + g(\\textrm{'>50'}) f_r(\\textrm{'>50'}).\n",
    "\\end{equation*}"
   ]
  },
  {
   "cell_type": "markdown",
   "metadata": {},
   "source": [
    "Repare que se multiplicamos cada termo do somatório por \n",
    "\n",
    "$$ \\frac{f_o(x)}{f_o(x)}=1,$$\n",
    "\n",
    "em que $f_o(x)=\\mathbb{P}(X_o=x)$, então não estamos mudando o valor final da expressão:\n",
    "\n",
    "\\begin{align*}\n",
    "    \\mathbb{E}(g(X_r)) &= \\sum_{x\\in \\mathfrak{X}} g(x) f_r(x) = \\sum_{x\\in \\mathfrak{X}} g(x) f_r(x) \\frac{f_o(x)}{f_o(x)} \\\\\n",
    "    &= \\sum_{x\\in \\mathfrak{X}} g(x) \\frac{f_r(x)}{f_o(x)} f_o(x) = \\mathbb{E}\\left(g(X_o) \\, \\frac{f_r(X_o)}{f_o(X_o)}\\right) .\n",
    "\\end{align*}"
   ]
  },
  {
   "cell_type": "markdown",
   "metadata": {},
   "source": [
    "Logo, é possível calcular a esperança para $Y_r$ utilizando amostras de $Y_o$:"
   ]
  },
  {
   "cell_type": "code",
   "execution_count": 9,
   "metadata": {},
   "outputs": [
    {
     "data": {
      "text/plain": [
       "(0.4871, 0.3694)"
      ]
     },
     "execution_count": 9,
     "metadata": {},
     "output_type": "execute_result"
    }
   ],
   "source": [
    "y_real.mean(), y_obs.mean()"
   ]
  },
  {
   "cell_type": "code",
   "execution_count": 10,
   "metadata": {},
   "outputs": [
    {
     "data": {
      "text/plain": [
       "0.484095259995061"
      ]
     },
     "execution_count": 10,
     "metadata": {},
     "output_type": "execute_result"
    }
   ],
   "source": [
    "sum(((x_real==x).mean()/(x_obs==x).mean())*((y_obs[x_obs==x]).sum()) for x in ['18-30', '31-50', '>50'])/len(y_obs)"
   ]
  },
  {
   "cell_type": "markdown",
   "metadata": {},
   "source": [
    "$\\oint$ *Não demonstramos o caso de maior interesse, que é quando $Y$ se relaciona com $X$, mas não de forma determinística. O legal é que, se essa relação se mantém, isto é se $\\mathbb{P}(Y_r | X_r) = \\mathbb{P}(Y_o | X_o)$, então os argumentos são análogos e podemos utilizar esses pesos $\\frac{f_r(X_o)}{f_o(X_o)}$ como fizemos aqui.*\n",
    "\n",
    "Essa técnica é muito utilizada para dar importância para exemplo subrepresentados na sua amostra de desenvolvimento, no contexto de aprendizado supervisionado. Essa técnica é chamada de **[adaptação de domínio](http://ciml.info/dl/v0_99/ciml-v0_99-ch08.pdf)**. A ideia é utilizar esses pesos para calcular a esperança que define o **risco** do classificador\n",
    "$$ R(h) = \\underset{(X,Y) \\sim \\mathscr{D}}{\\mathbb{E}} \\left[ \\ell(h(X), Y) \\right].  $$\n",
    "___"
   ]
  },
  {
   "cell_type": "markdown",
   "metadata": {},
   "source": [
    "# Teste KS"
   ]
  },
  {
   "cell_type": "markdown",
   "metadata": {},
   "source": [
    "A função densidade acumulada é parte fundamental na definição da variável aleatória. Como vimos anteriormente, podemos calcular a probabilidade de intervalos a partir dela. Se temos duas funções densidade acumuladas parecidas, então podemos concluir que suas distribuições são parecidas. Isso nos inspira a criar o **teste KS**.\n",
    "\n",
    "Nele, comparamos a função de distribuição acumulada de duas distribuições e identificamos a maior \"distância\" entre elas."
   ]
  },
  {
   "cell_type": "markdown",
   "metadata": {},
   "source": [
    "A definição formal de métrica nos permite criar distâncias em espaços quaisquer, não necessariamente no $\\mathbb{R}^n$. Podemos por exemplo criar distância no espaço de funções. (Veja mais sobre distâncias no meu [blog](https://vitaliset.github.io/distancia/) - shameless self promotion)."
   ]
  },
  {
   "cell_type": "markdown",
   "metadata": {},
   "source": [
    "Sejam $f$ e $g$ funções definidas em $\\mathbb{R}$ podemos calcular **uma** distância entre essas funções como \n",
    "\n",
    "$$d(f,g) =\\sup|f(x)−g(x)|.$$\n",
    "\n",
    "Ou seja, a distância entre duas funções é dada pelo **máximo do módulo da diferença em cada ponto**.\n",
    "\n",
    "Por exemplo, se queremos calcular a distância entre as funções f(x)=(x−0.4)2 e g(x)=2.5, temos que achar o valor que maximiza a função h(x)=|(x−0.4)2−2.5|. O valor da distância será o local em que as curvas estão mais distantes."
   ]
  },
  {
   "cell_type": "markdown",
   "metadata": {},
   "source": [
    "![](images_prob/distancia_funcoes.png)"
   ]
  },
  {
   "cell_type": "markdown",
   "metadata": {},
   "source": [
    "Se tivermos duas variáveis aleatórias $X$ e $Y$ e quisermos saber se são parecidas ou não, podemos aplicar essa distância às suas densidades de probabilidade acumuladas!"
   ]
  },
  {
   "cell_type": "markdown",
   "metadata": {},
   "source": [
    "## Exemplo\n",
    "\n",
    "Vamos calcular a distância de $X\\sim\\textrm{Exp}(1)$ e $Y\\sim\\textrm{Uniforme}(0,2)$."
   ]
  },
  {
   "cell_type": "markdown",
   "metadata": {},
   "source": [
    "![](images_prob/ks_dist.png)"
   ]
  },
  {
   "cell_type": "code",
   "execution_count": 11,
   "metadata": {},
   "outputs": [],
   "source": [
    "def acumulada_uniforme(t):\n",
    "    return np.select([t < 0, (t >= 0) & (t <= 2), t > 2], [0, t/2, 1]) \n",
    "\n",
    "def acumulada_exponencial(t):\n",
    "    return np.select([t < 0, t >= 0], [0, 1 - np.exp(-t)]) "
   ]
  },
  {
   "cell_type": "code",
   "execution_count": 12,
   "metadata": {},
   "outputs": [
    {
     "data": {
      "image/png": "[encoded data removed]",
      "text/plain": [
       "<Figure size 432x288 with 1 Axes>"
      ]
     },
     "metadata": {
      "needs_background": "light"
     },
     "output_type": "display_data"
    }
   ],
   "source": [
    "t_vals = np.linspace(-1,4,1000)\n",
    "ac_u, ac_e = acumulada_uniforme(t_vals), acumulada_exponencial(t_vals)\n",
    "\n",
    "plt.plot(t_vals, ac_u, label='uniforme')\n",
    "plt.plot(t_vals, ac_e, label='exponencial')\n",
    "\n",
    "argmax = np.argmax(np.abs(ac_u-ac_e))\n",
    "plt.vlines(t_vals[argmax], ac_u[argmax], \n",
    "           ac_e[argmax], 'k',\n",
    "           label=f'distância = {np.max(np.abs(ac_u-ac_e)).round(3)}')\n",
    "\n",
    "plt.legend()\n",
    "plt.show()"
   ]
  },
  {
   "cell_type": "markdown",
   "metadata": {},
   "source": [
    "## Teste KS com amostras\n",
    "\n",
    "\n",
    "Se eu não tenho a função densidade acumulada exata, mas tenho uma amostra, é possível calcular uma estimativa pra sua densidade acumulada.\n",
    "\n",
    "Relembrando o significado de $F_X(t)$ como \n",
    "\n",
    "$$F_X(t) = \\mathbb{P}_{X}((-\\infty,t]) = \\mathbb{P}(X\\leq t)$$\n",
    "\n",
    "Podemos olhar na nossa amostra qual a proporção de elementos que tem valor menor ou igual a $t$!\n",
    "\n",
    "Neste caso, temos\n",
    "\n",
    "$$ \\widehat{F}_X(t) = \\frac{ \\textrm{número de amostras menores ou iguais a t}}{\\textrm{número total de elementos}} .  $$"
   ]
  },
  {
   "cell_type": "markdown",
   "metadata": {},
   "source": [
    "![](images_prob/ks_sample.png)"
   ]
  },
  {
   "cell_type": "code",
   "execution_count": 13,
   "metadata": {},
   "outputs": [],
   "source": [
    "n = 500\n",
    "\n",
    "amostra1 = np.random.RandomState(42).uniform(0, 2, n)\n",
    "amostra2 = np.random.RandomState(42).exponential(1, n)"
   ]
  },
  {
   "cell_type": "code",
   "execution_count": 14,
   "metadata": {},
   "outputs": [
    {
     "data": {
      "image/png": "[encoded data removed]",
      "text/plain": [
       "<Figure size 432x288 with 1 Axes>"
      ]
     },
     "metadata": {
      "needs_background": "light"
     },
     "output_type": "display_data"
    }
   ],
   "source": [
    "plt.hist(amostra1, alpha=0.5, density=True, bins=10)\n",
    "plt.hist(amostra2, alpha=0.5, density=True, bins=10)\n",
    "plt.show()"
   ]
  },
  {
   "cell_type": "code",
   "execution_count": 15,
   "metadata": {},
   "outputs": [],
   "source": [
    "def return_acumulada_estimada(x):\n",
    "    def acumulada(t):\n",
    "        return [(x<=t_).sum()/len(x) for t_ in t]\n",
    "    return acumulada"
   ]
  },
  {
   "cell_type": "code",
   "execution_count": 16,
   "metadata": {},
   "outputs": [
    {
     "data": {
      "image/png": "[encoded data removed]",
      "text/plain": [
       "<Figure size 432x288 with 1 Axes>"
      ]
     },
     "metadata": {
      "needs_background": "light"
     },
     "output_type": "display_data"
    }
   ],
   "source": [
    "plt.plot(return_acumulada_estimada(amostra1)(t_vals))\n",
    "plt.plot(return_acumulada_estimada(amostra2)(t_vals))\n",
    "plt.show()"
   ]
  },
  {
   "cell_type": "code",
   "execution_count": 17,
   "metadata": {},
   "outputs": [
    {
     "data": {
      "text/plain": [
       "0.154"
      ]
     },
     "execution_count": 17,
     "metadata": {},
     "output_type": "execute_result"
    }
   ],
   "source": [
    "from scipy.stats import ks_2samp\n",
    "# from scipy.stats import kstest, ks_1samp\n",
    "ks, pvalue = ks_2samp(amostra1, amostra2)\n",
    "ks"
   ]
  },
  {
   "cell_type": "markdown",
   "metadata": {},
   "source": [
    "## KS como métrica de classificação\n",
    "\n",
    "\n",
    "?????????????????????????? Escrever algo aqui"
   ]
  },
  {
   "cell_type": "code",
   "execution_count": 18,
   "metadata": {},
   "outputs": [],
   "source": [
    "from sklearn.datasets import make_classification\n",
    "from sklearn.model_selection import train_test_split\n",
    "from sklearn.linear_model import LogisticRegression\n",
    "\n",
    "X, y = make_classification(n_samples=1000, random_state=42)\n",
    "X_train, X_test, y_train, y_test = train_test_split(X, y, test_size=0.33, random_state=42)\n",
    "\n",
    "log_reg = LogisticRegression().fit(X_train,y_train)\n",
    "\n",
    "y_prev_prob = log_reg.predict_proba(X_test)[:,1]"
   ]
  },
  {
   "cell_type": "code",
   "execution_count": 19,
   "metadata": {},
   "outputs": [
    {
     "data": {
      "image/png": "[encoded data removed]",
      "text/plain": [
       "<Figure size 432x288 with 1 Axes>"
      ]
     },
     "metadata": {
      "needs_background": "light"
     },
     "output_type": "display_data"
    }
   ],
   "source": [
    "plt.hist(y_prev_prob[y_test==0], alpha=0.8, label='y_test == 0')\n",
    "plt.hist(y_prev_prob[y_test==1], alpha=0.8, label='y_test == 1')\n",
    "plt.legend()\n",
    "plt.show()"
   ]
  },
  {
   "cell_type": "code",
   "execution_count": 20,
   "metadata": {},
   "outputs": [
    {
     "name": "stdout",
     "output_type": "stream",
     "text": [
      "ks=0.7268652878292495\n"
     ]
    },
    {
     "data": {
      "image/png": "[encoded data removed]",
      "text/plain": [
       "<Figure size 432x288 with 1 Axes>"
      ]
     },
     "metadata": {
      "needs_background": "light"
     },
     "output_type": "display_data"
    }
   ],
   "source": [
    "ks, pvalue = ks_2samp(y_prev_prob[y_test==0], y_prev_prob[y_test==1])\n",
    "print(f\"{ks=}\")\n",
    "\n",
    "plt.plot(return_acumulada_estimada(y_prev_prob[y_test==0])(np.linspace(0,1)), label='y_prob para y_test==0')\n",
    "plt.plot(return_acumulada_estimada(y_prev_prob[y_test==1])(np.linspace(0,1)), label='y_prob para y_test==1')\n",
    "plt.legend()\n",
    "plt.show()"
   ]
  },
  {
   "cell_type": "markdown",
   "metadata": {},
   "source": [
    "___"
   ]
  }
 ],
 "metadata": {
  "kernelspec": {
   "display_name": "Python 3 (ipykernel)",
   "language": "python",
   "name": "python3"
  },
  "language_info": {
   "codemirror_mode": {
    "name": "ipython",
    "version": 3
   },
   "file_extension": ".py",
   "mimetype": "text/x-python",
   "name": "python",
   "nbconvert_exporter": "python",
   "pygments_lexer": "ipython3",
   "version": "3.9.6"
  },
  "toc": {
   "base_numbering": 1,
   "nav_menu": {},
   "number_sections": true,
   "sideBar": true,
   "skip_h1_title": false,
   "title_cell": "Table of Contents",
   "title_sidebar": "Contents",
   "toc_cell": false,
   "toc_position": {},
   "toc_section_display": true,
   "toc_window_display": false
  },
  "varInspector": {
   "cols": {
    "lenName": 16,
    "lenType": 16,
    "lenVar": 40
   },
   "kernels_config": {
    "python": {
     "delete_cmd_postfix": "",
     "delete_cmd_prefix": "del ",
     "library": "var_list.py",
     "varRefreshCmd": "print(var_dic_list())"
    },
    "r": {
     "delete_cmd_postfix": ") ",
     "delete_cmd_prefix": "rm(",
     "library": "var_list.r",
     "varRefreshCmd": "cat(var_dic_list()) "
    }
   },
   "types_to_exclude": [
    "module",
    "function",
    "builtin_function_or_method",
    "instance",
    "_Feature"
   ],
   "window_display": false
  }
 },
 "nbformat": 4,
 "nbformat_minor": 2
}
