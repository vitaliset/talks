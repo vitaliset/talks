{
 "cells": [
  {
   "cell_type": "code",
   "execution_count": 1,
   "metadata": {
    "slideshow": {
     "slide_type": "skip"
    }
   },
   "outputs": [],
   "source": [
    "import numpy as np\n",
    "import matplotlib.pyplot as plt\n",
    "import scipy\n",
    "import seaborn\n",
    "\n",
    "X1 = np.round(np.random.RandomState(42).normal(1.73,0.1,size=300), 2)"
   ]
  },
  {
   "cell_type": "markdown",
   "metadata": {
    "slideshow": {
     "slide_type": "slide"
    }
   },
   "source": [
    "# <center> Treinamento de Probabilidade e Inferência Estatística (31/08/2022) </center>\n",
    "\n",
    "# <center> Parte 2: Inferência Estatística </center>"
   ]
  },
  {
   "cell_type": "markdown",
   "metadata": {
    "slideshow": {
     "slide_type": "fragment"
    }
   },
   "source": [
    "**Inferência Estatística**: o processo de tirar conclusões sobre informações populacionais (ou seja, informações da variável aleatória $X$) a partir de uma amostra da população."
   ]
  },
  {
   "cell_type": "markdown",
   "metadata": {
    "slideshow": {
     "slide_type": "fragment"
    }
   },
   "source": [
    "Imagine um cenário prático real. Suponha que estamos interessados em estimar a altura média da população brasileira. Poderíamos dar um jeito de registrar todos os mais de 200 milhões de habitantes em um super censo custoso e complexo. Entretanto, muitas vezes o valor exato não nos importa tanto, uma aproximação suficientemente boa já nos basta, entendendo o erro associada à nossa afirmação. Em outros casos, isso é simplesmente inviável.\n",
    "\n",
    "Um exemplo de inferência é selecionar alguns indivíduos brasileiros e tirar a média dessa subpopulação (amostra)."
   ]
  },
  {
   "cell_type": "code",
   "execution_count": 2,
   "metadata": {
    "slideshow": {
     "slide_type": "fragment"
    }
   },
   "outputs": [],
   "source": [
    "# X1"
   ]
  },
  {
   "cell_type": "code",
   "execution_count": 3,
   "metadata": {
    "slideshow": {
     "slide_type": "-"
    }
   },
   "outputs": [
    {
     "data": {
      "image/png": "[encoded data removed]",
      "text/plain": [
       "<Figure size 640x480 with 1 Axes>"
      ]
     },
     "metadata": {},
     "output_type": "display_data"
    }
   ],
   "source": [
    "plt.hist(X1)\n",
    "plt.show()"
   ]
  },
  {
   "cell_type": "code",
   "execution_count": 4,
   "metadata": {
    "slideshow": {
     "slide_type": "-"
    }
   },
   "outputs": [
    {
     "data": {
      "text/plain": [
       "1.7298"
      ]
     },
     "execution_count": 4,
     "metadata": {},
     "output_type": "execute_result"
    }
   ],
   "source": [
    "X1.mean().round(4)"
   ]
  },
  {
   "cell_type": "markdown",
   "metadata": {
    "slideshow": {
     "slide_type": "subslide"
    }
   },
   "source": [
    "## Amostragem\n",
    "\n",
    "Mas como garantir que a distribuição da variável na nossa amostra é significativamente parecida com a distribuição da variável na população geral? Existem várias técnicas clássicas de amostragem que tentam garantir isso:"
   ]
  },
  {
   "cell_type": "markdown",
   "metadata": {
    "slideshow": {
     "slide_type": "fragment"
    }
   },
   "source": [
    "- Amostragem Aleatória Simples\n",
    "\n",
    "Todos os elementos da população têm uma chance igual de serem selecionados."
   ]
  },
  {
   "cell_type": "markdown",
   "metadata": {
    "slideshow": {
     "slide_type": "fragment"
    }
   },
   "source": [
    "- Amostragem Estratificada\n",
    "\n",
    "A distribuição de uma variável conhecida é mantida na amostra.\n",
    "\n",
    "![](images_infer/estr_sample.png)"
   ]
  },
  {
   "cell_type": "markdown",
   "metadata": {
    "slideshow": {
     "slide_type": "fragment"
    }
   },
   "source": [
    "Na teoria de probabilidade, a ideia é pensar que cada uma das variáveis observadas é a observação de uma variável aleatória que tem distribuição igual a distribuição da população original. Quando tiramos uma amostra, estamos evaluando essas variáveis aleatórias."
   ]
  },
  {
   "cell_type": "markdown",
   "metadata": {
    "slideshow": {
     "slide_type": "fragment"
    }
   },
   "source": [
    "**Definição (amostra aleatória)**: Dizemos que o conjunto das variáveis aleatórias $X_1$, $\\cdots$, $X_n$ é **amostra aleatória de $X$ tamanho $n$** se são independentes e identicamente distribuídas com distribuição igual à da variável aleatória $X$. Ela pode ser denotada pelo vetor aleatório $\\tilde{X}=(X_1, \\cdots,X_n)$."
   ]
  },
  {
   "cell_type": "markdown",
   "metadata": {
    "slideshow": {
     "slide_type": "slide"
    }
   },
   "source": [
    "## Modelo estatístico (paramétrico)\n",
    "\n",
    "Um modelo estatístico é definido por uma família de probabilidades $\\mathcal{X}$ que **possivelmente** descrevem o comportamento probabilístico dos dados.\n",
    "\n",
    "Na prática, estamos assumindo que $X\\in \\mathcal{X}$. Ou seja, estamos restringindo o comportamento da variável aleatória para um subconjunto de possíveis variáveis aleatórias. Em particular, na estatística paramétrica, estamos supondo que a distribuição de $X$ pode ser parametrizada por algum argumento $\\theta\\in\\Theta\\subset \\mathbb{R}^n$. Isto é, podemos escrever $X\\sim f_\\theta$ para definir unicamente os elementos de $\\mathcal{X}$, portanto, podemos escrever $\\mathcal{X} = \\{X\\sim f_\\theta : \\theta\\in\\Theta\\}$.\n",
    "\n",
    "Neste caso, qualquer **quantidade de interesse** da população é escrita como $g(\\theta)$."
   ]
  },
  {
   "cell_type": "markdown",
   "metadata": {
    "slideshow": {
     "slide_type": "fragment"
    }
   },
   "source": [
    "![](images_infer/amount_1.png)"
   ]
  },
  {
   "cell_type": "markdown",
   "metadata": {
    "slideshow": {
     "slide_type": "fragment"
    }
   },
   "source": [
    "![](images_infer/amount_2.png)"
   ]
  },
  {
   "cell_type": "markdown",
   "metadata": {
    "slideshow": {
     "slide_type": "fragment"
    }
   },
   "source": [
    "![](images_infer/amount_3.png)"
   ]
  },
  {
   "cell_type": "markdown",
   "metadata": {
    "slideshow": {
     "slide_type": "fragment"
    }
   },
   "source": [
    "Estamos fazendo perguntas sobre um atributo populacional que não podemos medir diretamente. Mas podemos medir na nossa amostra observada.\n",
    "\n",
    "**Definição (amostra observada)**: São os valores efetivamente observados após executar o experimento. Costuma ser denotado pela letra da variável aleatória minúscula\n",
    "\n",
    "$$ \\tilde{x} = (x_1,\\cdots,x_n).$$"
   ]
  },
  {
   "cell_type": "markdown",
   "metadata": {
    "slideshow": {
     "slide_type": "slide"
    }
   },
   "source": [
    "# Função de verossimilhança da amostra"
   ]
  },
  {
   "cell_type": "markdown",
   "metadata": {
    "slideshow": {
     "slide_type": "fragment"
    }
   },
   "source": [
    "**Definição (função de verossimilhança)**: Seja $\\tilde{X}=(X_1,\\cdots,X_n)$ uma amostra aleatória de $X\\sim f_{\\theta}$, $\\theta \\in \\Theta$. A função de verossimilhança é a função (densidade) de probabilidade calculada no $\\tilde{x}$ observado. Neste caso, $\\theta$ é o argumento.\n",
    "\n",
    "$$ \\mathscr{L}_{\\tilde{x}}(\\theta) = f_\\theta(\\tilde{x}) = \\Pi_{i=1}^n f_\\theta(x_i) , $$\n",
    "\n",
    "ou\n",
    "\n",
    "$$ \\mathscr{L}_{\\tilde{x}}(\\theta) = P_\\theta(\\tilde{X} = \\tilde{x}) = \\Pi_{i=1}^n P_\\theta(X_i = x_i)  . $$\n",
    "\n",
    "Notação alternativa: $\\mathscr{L}(\\theta\\,; \\tilde{x}) $"
   ]
  },
  {
   "cell_type": "markdown",
   "metadata": {
    "slideshow": {
     "slide_type": "fragment"
    }
   },
   "source": [
    "Lembrando que a amostra aleatória implica em independência. Por isso, podemos quebrar $\\mathscr{L}_{\\tilde{x}}$ na multiplicação."
   ]
  },
  {
   "cell_type": "markdown",
   "metadata": {
    "slideshow": {
     "slide_type": "fragment"
    }
   },
   "source": [
    "**Exemplo**: Suponha que nosso modelo estatístico seja da forma\n",
    "\n",
    "$$ X_\\theta \\sim f_\\theta(x) = \\frac{1}{\\sqrt{2\\pi}} \\,\\exp\\left({-\\frac{(x-\\theta)^2}{2}}  \\right),\\,\\,\\, \\theta\\in(-1,1)\\subset\\mathbb{R}.$$\n",
    "\n",
    "Vamos calcular a função de verossimilhança para uma amostra observada $\\tilde{x}=$`X2`."
   ]
  },
  {
   "cell_type": "code",
   "execution_count": 5,
   "metadata": {
    "slideshow": {
     "slide_type": "fragment"
    }
   },
   "outputs": [],
   "source": [
    "theta = np.random.RandomState(42).uniform(-1, 1)\n",
    "X2 = np.random.RandomState(42).normal(theta, 1, size=400)"
   ]
  },
  {
   "cell_type": "code",
   "execution_count": 6,
   "metadata": {
    "slideshow": {
     "slide_type": "-"
    }
   },
   "outputs": [],
   "source": [
    "# X2"
   ]
  },
  {
   "cell_type": "code",
   "execution_count": 7,
   "metadata": {
    "slideshow": {
     "slide_type": "fragment"
    }
   },
   "outputs": [],
   "source": [
    "def densidade_normal(theta, x):\n",
    "    return 1/(np.sqrt(2*np.pi))*np.exp(-(x-theta)**2/2)"
   ]
  },
  {
   "cell_type": "code",
   "execution_count": 8,
   "metadata": {
    "slideshow": {
     "slide_type": "fragment"
    }
   },
   "outputs": [
    {
     "data": {
      "text/plain": [
       "0.3989422804014327"
      ]
     },
     "execution_count": 8,
     "metadata": {},
     "output_type": "execute_result"
    }
   ],
   "source": [
    "densidade_normal(0, 0)"
   ]
  },
  {
   "cell_type": "code",
   "execution_count": 9,
   "metadata": {
    "slideshow": {
     "slide_type": "fragment"
    }
   },
   "outputs": [],
   "source": [
    "def verossimilhanca(theta, vetor_x, densidade):\n",
    "    aux = 1\n",
    "    for x in vetor_x:\n",
    "        aux *= densidade(theta, x)\n",
    "    return aux"
   ]
  },
  {
   "cell_type": "code",
   "execution_count": 10,
   "metadata": {
    "slideshow": {
     "slide_type": "fragment"
    }
   },
   "outputs": [
    {
     "data": {
      "image/png": "[encoded data removed]",
      "text/plain": [
       "<Figure size 640x480 with 1 Axes>"
      ]
     },
     "metadata": {},
     "output_type": "display_data"
    }
   ],
   "source": [
    "valores_theta = np.linspace(-1, 1, 1000)\n",
    "ver = verossimilhanca(valores_theta, X2, densidade_normal)\n",
    "\n",
    "plt.plot(valores_theta, ver)\n",
    "plt.show()"
   ]
  },
  {
   "cell_type": "code",
   "execution_count": 11,
   "metadata": {
    "slideshow": {
     "slide_type": "fragment"
    }
   },
   "outputs": [
    {
     "data": {
      "text/plain": [
       "-0.250919762305275"
      ]
     },
     "execution_count": 11,
     "metadata": {},
     "output_type": "execute_result"
    }
   ],
   "source": [
    "theta"
   ]
  },
  {
   "cell_type": "markdown",
   "metadata": {
    "slideshow": {
     "slide_type": "slide"
    }
   },
   "source": [
    "## Estimadores e estimativas"
   ]
  },
  {
   "cell_type": "markdown",
   "metadata": {
    "slideshow": {
     "slide_type": "fragment"
    }
   },
   "source": [
    "**Definição (estatística)**: Uma estatística é uma função da amostra aleatória."
   ]
  },
  {
   "cell_type": "markdown",
   "metadata": {
    "slideshow": {
     "slide_type": "fragment"
    }
   },
   "source": [
    "![](images_infer/estimators.png)"
   ]
  },
  {
   "cell_type": "markdown",
   "metadata": {
    "slideshow": {
     "slide_type": "fragment"
    }
   },
   "source": [
    "Em que denoto a função indicadora tal que $\\mathbb{1}(\\textrm{True})=1$ e $\\mathbb{1}(\\textrm{False})=0$."
   ]
  },
  {
   "cell_type": "markdown",
   "metadata": {
    "slideshow": {
     "slide_type": "fragment"
    }
   },
   "source": [
    "**Definição (estimador pontual)**: Um **estimador** é uma estatística cujo objetivo é estimar uma quantidade $g(\\theta)$.\n",
    "\n",
    "É esperado que a imagem do estimador esteja contida em $g(\\Theta) = \\{ g(\\theta) : \\theta \\in \\Theta \\}$."
   ]
  },
  {
   "cell_type": "markdown",
   "metadata": {
    "slideshow": {
     "slide_type": "fragment"
    }
   },
   "source": [
    "**Definição (estimativa)**: Uma **estimativa** é o valor numérico de um estimador que foi calculado usando a amostra observada."
   ]
  },
  {
   "cell_type": "markdown",
   "metadata": {
    "slideshow": {
     "slide_type": "fragment"
    }
   },
   "source": [
    "![](images_infer/estimate.png)"
   ]
  },
  {
   "cell_type": "markdown",
   "metadata": {
    "slideshow": {
     "slide_type": "fragment"
    }
   },
   "source": [
    "Uma parte da estatística está interessada em construir estimadores com propriedades boas! Uma das técnicas é utilizar o método de máxima verossimilhança."
   ]
  },
  {
   "cell_type": "markdown",
   "metadata": {
    "slideshow": {
     "slide_type": "fragment"
    }
   },
   "source": [
    "## Viés e variância de um estimador\n",
    "\n",
    "O **víes** de um estimador $T(\\tilde{X})$ com objetivo de calcular uma quantidade de interesse $g(\\theta)$ é\n",
    "\n",
    "$$ \\textrm{Viés}_\\theta(T(\\tilde{X})) = \\mathbb{E}_\\theta\\left(T(\\tilde{X}) - g(\\theta) \\right).$$\n",
    "\n",
    "A sua variância é explicitamente $\\textrm{Var}_\\theta(T(\\tilde{X}))$.\n",
    "\n",
    "É de interesse ter estimadores **não-viciados (ou não-viesados)**, ou seja, estimadores com viés 0. Além disso, esperamos ter variância baixa.\n",
    "\n",
    "O **ENVVUM (estimador não-viesado com variância uniformemente mínima)** é um estimador não-viesado que tem, dado outro estimador não-viciado, variância menor que a dele.\n",
    "\n",
    "$\\oint$ *Existe um valor mínimo que a variância de um estimador não-viesado pode ter. Ela é chamada de limite inferior de Cramer-Rao e está relacionada com a informação de Fisher.*\n",
    "\n",
    "Existem várias técnicas interessantes para construir estimadores, como o método de momentos, o método de mínimos quadrados, o teorema de Lehmann-Scheffé etc. Vamos comentar sobre um dos mais clássicos, o estimador de máximaa verossimilhança."
   ]
  },
  {
   "cell_type": "markdown",
   "metadata": {
    "slideshow": {
     "slide_type": "slide"
    }
   },
   "source": [
    "## Máxima verossimilhança"
   ]
  },
  {
   "cell_type": "markdown",
   "metadata": {
    "slideshow": {
     "slide_type": "fragment"
    }
   },
   "source": [
    "Neste método, encontramos o $\\theta$ que melhor adapta $\\tilde{x}$ aos dados observados, aos olhos da verossimilhança $\\mathscr{L}_{\\tilde{x}}(\\theta)$. Isto é, o valor que maxima essa quantidade. Denotamos o $\\theta$ estimado por $\\widehat{\\theta}_{MV}$. Além disso, é possível calcular a estimativa de máxima verossimilhança de $g(\\theta)$ como $g(\\widehat{\\theta}_{MV})$, pela invariância do estimador de máxima verossimilhança."
   ]
  },
  {
   "cell_type": "markdown",
   "metadata": {
    "slideshow": {
     "slide_type": "fragment"
    }
   },
   "source": [
    "Para achar o argumento $\\theta$ que maximiza $\\mathscr{L}_{\\tilde{x}}(\\theta)$, podemos usar várias estratégias de maximização. \n",
    "\n",
    "Usualmente, achamos a raíz da equação\n",
    "\n",
    "$$ \\frac{d}{d\\theta} \\mathscr{L}_{\\tilde{x}}(\\theta) = 0 .$$\n",
    "\n",
    "Nem sempre isso é trivial e, computacionalmente podemos ter problemas de [underflow](https://en.wikipedia.org/wiki/Arithmetic_underflow) (já que $\\mathscr{L}_{\\tilde{x}}$ é a multiplicação de vários valores menores do que 1). Como $\\mathscr{L}_{\\tilde{x}}(\\theta)\\geq 0$, já que é uma função densidade de probabilidade, podemos aplicar a função $\\log(\\cdot)$ (uma função monótona) e maximizar\n",
    "\n",
    "$$ \\log\\left(  \\mathscr{L}_{\\tilde{x}}(\\theta) \\right)= \\sum_{i=1}^n \\log\\left( f_\\theta(x_i)  \\right) .$$\n",
    "\n",
    "Em outros casos pode ser preciso usar métodos numéricos para achar a raíz dessa equação."
   ]
  },
  {
   "cell_type": "markdown",
   "metadata": {
    "slideshow": {
     "slide_type": "subslide"
    }
   },
   "source": [
    "**Exemplo**: Suponha que estamos analisando o tempo de ligações de uma determinada empresa. Por algum motivo, é razoável querer entender qual a probabilidade das ligações demorarem entre 4 e 5 minutos.\n",
    "\n",
    "Nos é fornecido a seguinte amostra aleatória de 20 elementos de tempo de ligações:"
   ]
  },
  {
   "cell_type": "code",
   "execution_count": 12,
   "metadata": {
    "slideshow": {
     "slide_type": "fragment"
    }
   },
   "outputs": [],
   "source": [
    "X3 = np.array([0.202, 5.3267, 0.8842, 1.8331, 0.5744, 0.1402,\n",
    "               5.119, 3.1183, 5.569, 0.7165, 0.365, 0.2521,\n",
    "               1.5503, 1.2344, 3.6096, 0.3423, 5.0797,\n",
    "               7.9643, 0.2668, 3.3204])"
   ]
  },
  {
   "cell_type": "code",
   "execution_count": 13,
   "metadata": {
    "slideshow": {
     "slide_type": "-"
    }
   },
   "outputs": [
    {
     "data": {
      "image/png": "[encoded data removed]",
      "text/plain": [
       "<Figure size 640x480 with 1 Axes>"
      ]
     },
     "metadata": {},
     "output_type": "display_data"
    }
   ],
   "source": [
    "plt.hist(X3)\n",
    "plt.show()"
   ]
  },
  {
   "cell_type": "markdown",
   "metadata": {
    "slideshow": {
     "slide_type": "fragment"
    }
   },
   "source": [
    "![](images_infer/estimator_prob_1.png)"
   ]
  },
  {
   "cell_type": "code",
   "execution_count": 14,
   "metadata": {
    "slideshow": {
     "slide_type": "fragment"
    }
   },
   "outputs": [
    {
     "data": {
      "text/plain": [
       "array([False, False, False, False, False, False, False, False, False,\n",
       "       False, False, False, False, False, False, False, False, False,\n",
       "       False, False])"
      ]
     },
     "execution_count": 14,
     "metadata": {},
     "output_type": "execute_result"
    }
   ],
   "source": [
    "(X3>4) & (X3<5)"
   ]
  },
  {
   "cell_type": "code",
   "execution_count": 15,
   "metadata": {
    "slideshow": {
     "slide_type": "fragment"
    }
   },
   "outputs": [
    {
     "data": {
      "text/plain": [
       "0"
      ]
     },
     "execution_count": 15,
     "metadata": {},
     "output_type": "execute_result"
    }
   ],
   "source": [
    "((X3>4) & (X3<5)).sum()"
   ]
  },
  {
   "cell_type": "markdown",
   "metadata": {
    "slideshow": {
     "slide_type": "fragment"
    }
   },
   "source": [
    "Podemos supor que os dados fazem parte de uma distribuição exponencial, ou seja, que $X\\sim \\textrm{Exp}(\\theta)$ para $\\theta\\in (0,\\infty)$. A partir disso podemos estimar $\\theta$ e calcular uma estimativa para $g(\\theta)$.\n",
    "\n",
    "![](images_infer/estimator_prob_2.png)"
   ]
  },
  {
   "cell_type": "code",
   "execution_count": 16,
   "metadata": {
    "slideshow": {
     "slide_type": "fragment"
    }
   },
   "outputs": [],
   "source": [
    "def densidade_exponencial(theta, x):\n",
    "    return theta*np.exp(-theta*x)"
   ]
  },
  {
   "cell_type": "code",
   "execution_count": 17,
   "metadata": {
    "slideshow": {
     "slide_type": "fragment"
    }
   },
   "outputs": [
    {
     "data": {
      "image/png": "[encoded data removed]",
      "text/plain": [
       "<Figure size 640x480 with 1 Axes>"
      ]
     },
     "metadata": {},
     "output_type": "display_data"
    }
   ],
   "source": [
    "valores_theta = np.linspace(0,2,1000)\n",
    "ver = verossimilhanca(valores_theta, X3, densidade_exponencial)\n",
    "\n",
    "plt.plot(valores_theta, ver)\n",
    "plt.vlines(valores_theta[np.argmax(ver)],np.min(ver),verossimilhanca(valores_theta[np.argmax(ver)], X3, densidade_exponencial))\n",
    "plt.show()"
   ]
  },
  {
   "cell_type": "code",
   "execution_count": 18,
   "metadata": {
    "slideshow": {
     "slide_type": "fragment"
    }
   },
   "outputs": [
    {
     "data": {
      "text/plain": [
       "0.42042042042042044"
      ]
     },
     "execution_count": 18,
     "metadata": {},
     "output_type": "execute_result"
    }
   ],
   "source": [
    "valores_theta[np.argmax(ver)]"
   ]
  },
  {
   "cell_type": "code",
   "execution_count": 19,
   "metadata": {
    "slideshow": {
     "slide_type": "fragment"
    }
   },
   "outputs": [
    {
     "data": {
      "image/png": "[encoded data removed]",
      "text/plain": [
       "<Figure size 640x480 with 1 Axes>"
      ]
     },
     "metadata": {},
     "output_type": "display_data"
    }
   ],
   "source": [
    "plt.hist(X3, density=True)\n",
    "plt.plot(np.linspace(0,10), densidade_exponencial(valores_theta[np.argmax(ver)], np.linspace(0,10)))\n",
    "plt.show()"
   ]
  },
  {
   "cell_type": "code",
   "execution_count": 20,
   "metadata": {
    "slideshow": {
     "slide_type": "-"
    }
   },
   "outputs": [
    {
     "data": {
      "text/plain": [
       "0.06386153502253891"
      ]
     },
     "execution_count": 20,
     "metadata": {},
     "output_type": "execute_result"
    }
   ],
   "source": [
    "np.exp(-4*valores_theta[np.argmax(ver)])-np.exp(-5*valores_theta[np.argmax(ver)])"
   ]
  },
  {
   "cell_type": "markdown",
   "metadata": {
    "slideshow": {
     "slide_type": "slide"
    }
   },
   "source": [
    "# Intervalos de confiança\n",
    "\n",
    "Tudo bem, achamos uma estimativa **pontual** para nossa quantidade desejada $g(\\theta)$. Sabemos que provavelmente esse não é o valor perfeito. Nossa estimativa depende da amostra que coletamos e existe uma aleatoriedade que nos diz que ela pode variar cada vez que realizamos o experimento. Em muitos casos, conseguimos estimar essas variações e calcular intervalos de confiança que nos permitem acreditar que nossa quantidade desejada real está em um certo intervalo com alta probabilidade.\n",
    "\n",
    "A partir desses intervalos, podemos construir testes de hipótese validando se nossas estimativas pontuais são razoáveis."
   ]
  },
  {
   "cell_type": "code",
   "execution_count": 21,
   "metadata": {
    "slideshow": {
     "slide_type": "fragment"
    }
   },
   "outputs": [
    {
     "data": {
      "text/plain": [
       "2.7745260947438597"
      ]
     },
     "execution_count": 21,
     "metadata": {},
     "output_type": "execute_result"
    }
   ],
   "source": [
    "theta = 3\n",
    "np.random.RandomState(42).normal(theta, 1, size=50).mean()"
   ]
  },
  {
   "cell_type": "code",
   "execution_count": 22,
   "metadata": {
    "slideshow": {
     "slide_type": "fragment"
    }
   },
   "outputs": [
    {
     "data": {
      "image/png": "[encoded data removed]",
      "text/plain": [
       "<Figure size 640x480 with 1 Axes>"
      ]
     },
     "metadata": {},
     "output_type": "display_data"
    }
   ],
   "source": [
    "media_amostra = \\\n",
    "np.array(\n",
    "    [np.random.RandomState(i).normal(theta, 1, size=50).mean() for i in range(10000)]\n",
    ")\n",
    "\n",
    "plt.hist(media_amostra)\n",
    "plt.show()"
   ]
  },
  {
   "cell_type": "code",
   "execution_count": 23,
   "metadata": {
    "slideshow": {
     "slide_type": "fragment"
    }
   },
   "outputs": [
    {
     "data": {
      "text/plain": [
       "0.9519"
      ]
     },
     "execution_count": 23,
     "metadata": {},
     "output_type": "execute_result"
    }
   ],
   "source": [
    "((media_amostra > 2.72) & (media_amostra<3.28)).sum()/10000"
   ]
  },
  {
   "cell_type": "markdown",
   "metadata": {
    "slideshow": {
     "slide_type": "subslide"
    }
   },
   "source": [
    "## Quantidade pivotal\n",
    "\n",
    "Na prática, construir intervalos de confiança (teóricos ou aproximados) é uma tarefa díficil. Precisamos ter muita confiança no modelo estatístico que estamos usando (ou seja, precisamos definir bem $\\mathcal{X}$), além de saber construir uma **quantidade pivotal**.\n",
    "\n",
    "**Definição (quantidade pivotal)**: Dizemos que $M(g(\\theta), \\tilde{X})$ é uma quantidade pivotal (exata) para $g(\\theta)$ se a sua distribuição não depende de $\\theta$.\n",
    "\n",
    "Uma função é dita quantidade pivotal para $g(\\theta)$ aproximada quando, no limite de $n\\to\\infty$, sua distribuição não depende de $\\theta$.\n",
    "\n",
    "**Exemplo**: Seja $\\tilde{X}=(X_1, \\cdots, X_n)$ amostra aleatória de $X\\sim \\mathcal{N}(\\theta, 1)$, $\\theta\\in\\mathbb{R}$. Então as funções\n",
    "\n",
    "$$ M_1(\\theta, \\tilde{X}) = X_1 - \\theta ,$$\n",
    "\n",
    "$$ M_2(\\theta, \\tilde{X}) = \\sqrt{n}\\left(\\frac{\\sum_{i=1}^n X_i}{n}-\\theta \\right),$$\n",
    "\n",
    "são exemplos de quantidades pivotais, já que tanto $M_1(\\theta, \\tilde{X})$ quanto $M_2(\\theta, \\tilde{X})$ tem distribuição $\\mathcal{N}(0,1)$ (que não depende de $\\theta$)."
   ]
  },
  {
   "cell_type": "markdown",
   "metadata": {
    "slideshow": {
     "slide_type": "subslide"
    }
   },
   "source": [
    "## Construindo um intervalo de confiança\n",
    "\n",
    "Não vou entrar em detalhes, mas a partir de um quantidade pivotal é possível construir um intervalo de confiança (com nível de confiança $\\gamma\\in(0,1)$). Basta existir $c_1^\\gamma$ e $c_2^\\gamma$ que satisfaçam a equação\n",
    "\n",
    "$$ \\mathbb{P}\\left( c_1^\\gamma \\leq M(g(\\theta), \\tilde{X}) \\leq c_2^\\gamma \\right) = \\gamma,$$\n",
    "\n",
    "e estatísticas $t_1^\\gamma(\\tilde{X})$ e $t_2^\\gamma(\\tilde{X})$ tais que \n",
    "\n",
    "$$ c_1^\\gamma \\leq M(g(\\theta), \\tilde{X}) \\leq c_2^\\gamma \\Leftrightarrow t_1^\\gamma(\\tilde{X}) \\leq g(\\theta) \\leq t_2^\\gamma(\\tilde{X}).$$\n",
    "\n",
    "Neste caso temos o intervalo de confiança teórico:\n",
    "\n",
    "$$ IC(g(\\theta), \\gamma) = [t_1^\\gamma(\\tilde{X}), t_2^\\gamma(\\tilde{X})] \\cap g(\\Theta).$$\n",
    "\n",
    "Quando temos uma amostra observada $\\tilde{x}$ de $\\tilde{X}$, então obtemos o intervalo de confiança observado:\n",
    "\n",
    "$$ IC_{obs}(g(\\theta), \\gamma) = [t_1^\\gamma(\\tilde{x}), t_2^\\gamma(\\tilde{x})] \\cap g(\\Theta).$$"
   ]
  },
  {
   "cell_type": "markdown",
   "metadata": {
    "slideshow": {
     "slide_type": "slide"
    }
   },
   "source": [
    "# Intervalos de confiança com bootstrap\n",
    "\n",
    "O bootstrap se baseia na primeira ideia que fizemos para construir o intervalo de confiança: repetir o experimento uma quantidade significativa de vezes para não ter apenas uma estimativa pontual, mas um conjunto grande de estimativas.\n",
    "\n",
    "Mas como construir amostras diferentes do mesmo experimento quando só temos uma amostra? A ideia é **amostrar com repetição**. Amostras com repetição de um determinado conjunto vão manter aproximadamente a distribuição inicial:"
   ]
  },
  {
   "cell_type": "code",
   "execution_count": 24,
   "metadata": {
    "slideshow": {
     "slide_type": "fragment"
    }
   },
   "outputs": [],
   "source": [
    "amostra_inicial = np.random.RandomState(42).normal(theta, 1, size=500)"
   ]
  },
  {
   "cell_type": "code",
   "execution_count": 25,
   "metadata": {
    "slideshow": {
     "slide_type": "fragment"
    }
   },
   "outputs": [
    {
     "data": {
      "image/png": "[encoded data removed]",
      "text/plain": [
       "<Figure size 1000x400 with 2 Axes>"
      ]
     },
     "metadata": {},
     "output_type": "display_data"
    }
   ],
   "source": [
    "amostra_reposicao = np.random.RandomState(42).choice(amostra_inicial, replace=True, size=500)\n",
    "\n",
    "fig, ax = plt.subplots(ncols=2, figsize=(10, 4))\n",
    "_, bins, _ = ax[0].hist(amostra_inicial, density=True, label='histograma da amostra observada')\n",
    "ax[0].hist(amostra_reposicao, bins=bins, alpha = 0.7, density=True, label='histograma da amostra de bootstrap')\n",
    "x_ = np.linspace(-1, 7, 1000)\n",
    "ax[0].plot(x_, scipy.stats.norm(loc=3, scale=1).pdf(x=x_), 'k', label='fdp real')\n",
    "\n",
    "ax[1].hist(amostra_inicial, density=True)\n",
    "for i in range(7):\n",
    "    amostra_reposicao_for = np.random.RandomState(i).choice(amostra_inicial, replace=True, size=500)\n",
    "    ax[1].hist(amostra_reposicao_for, bins=bins, alpha = 0.7, density=True)\n",
    "ax[1].plot(x_, scipy.stats.norm(loc=3, scale=1).pdf(x=x_), 'k')\n",
    "\n",
    "ax[0].set_ylim(0, 0.55)\n",
    "ax[1].set_ylim(0, 0.55)\n",
    "ax[0].legend()\n",
    "plt.tight_layout()"
   ]
  },
  {
   "cell_type": "markdown",
   "metadata": {
    "slideshow": {
     "slide_type": "fragment"
    }
   },
   "source": [
    "Repare que todas as amostras que conseguimos por bootstrap seguem de maneira aproximada a distribuição da amostra observada, que por sua vez, segue aproximadamente a distribuição real da variável aleatória."
   ]
  },
  {
   "cell_type": "code",
   "execution_count": 26,
   "metadata": {
    "slideshow": {
     "slide_type": "fragment"
    }
   },
   "outputs": [],
   "source": [
    "bootstraps = [np.random.RandomState(i).choice(amostra_inicial, replace=True, size=500).mean() for i in range(10000)]"
   ]
  },
  {
   "cell_type": "markdown",
   "metadata": {
    "slideshow": {
     "slide_type": "fragment"
    }
   },
   "source": [
    "A partir dessa amostra podemos fazer inferência sobre a quantidade de interesse (no nosso caso, o próprio $\\theta$) pegando estatísticas relevantes como os percentis/quantis.\n",
    "\n",
    "$\\oint$: *A **função quantil (ou percentil)** $q_X:(0,1)\\to\\mathbb{R}$ é tal que*\n",
    "$$ \\mathbb{P}(X\\leq q_X(\\alpha)) = \\alpha. $$\n",
    "\n",
    "*(Na prática é um pouco mais chato que isso... Veja mais sobre a função quantil no meu [blog](https://vitaliset.github.io/covariate-shift-1-qqplot/) - shameless self promotion).*"
   ]
  },
  {
   "cell_type": "code",
   "execution_count": 27,
   "metadata": {
    "scrolled": true,
    "slideshow": {
     "slide_type": "fragment"
    }
   },
   "outputs": [
    {
     "data": {
      "text/plain": [
       "array([2.91989873, 3.09353478])"
      ]
     },
     "execution_count": 27,
     "metadata": {},
     "output_type": "execute_result"
    }
   ],
   "source": [
    "np.percentile(bootstraps, q=[2.5, 97.5])"
   ]
  },
  {
   "cell_type": "markdown",
   "metadata": {
    "slideshow": {
     "slide_type": "fragment"
    }
   },
   "source": [
    "Neste caso, estamos pegando os valores que fazem com que 95% das nossas médias calculadas por bootstrap estejam limitados por eles. Diríamos que o intervalo de confiança de nível de confiança 95% é $[2.92, 3.09]$, que inclui o verdadeiro valor de $\\theta$."
   ]
  },
  {
   "cell_type": "markdown",
   "metadata": {
    "slideshow": {
     "slide_type": "slide"
    }
   },
   "source": [
    "# Mais sobre inferência não paramétrica\n",
    "\n",
    "Nem sempre será possível escolher $\\mathcal{X}$ de maneira comportada (por vezes, você não vai querer fazer isso) sendo parametrizada por um parâmetro, como comentamos. Ainda assim, podemos estar interessados em fazer inferências sobre a nossa amostra.\n",
    "\n",
    "Existe uma grande família de métodos para tentar lidar com esse problema. Inclusive o bootstrap é um deles. Outro que vale a pena ser mencionado é o Kernel Density Estimation (KDE), que é uma técnica bem simples de fazer uma aproximação da função densidade de probabilidade utilizando uma amostra observada.\n",
    "\n",
    "Não vou dar muitos detalhes, mas a ideia é dar peso para as regiões ao redor da nossa amostra e ter como aproximação para a função densidade de probabilidade a média das funções menores. Um dos kerneis usados, nesse caso, é colocar funções gaussianas ao redor de cada um dos seus exemplos, o [`seaborn.histplot`](https://seaborn.pydata.org/generated/seaborn.histplot.html) faz isso quando você passa o parâmetro `kde=True`.\n",
    "\n",
    "![](images_infer/kde_1.jpg)"
   ]
  },
  {
   "cell_type": "code",
   "execution_count": 28,
   "metadata": {
    "slideshow": {
     "slide_type": "fragment"
    }
   },
   "outputs": [
    {
     "data": {
      "image/png": "[encoded data removed]",
      "text/plain": [
       "<Figure size 1000x400 with 2 Axes>"
      ]
     },
     "metadata": {},
     "output_type": "display_data"
    }
   ],
   "source": [
    "fig, ax = plt.subplots(ncols=2, figsize=(10, 4))\n",
    "seaborn.histplot(amostra_inicial, ax=ax[0], kde=True)\n",
    "seaborn.histplot(np.random.RandomState(42).exponential(size=1000), ax=ax[1], kde=True)\n",
    "plt.show()"
   ]
  },
  {
   "cell_type": "markdown",
   "metadata": {
    "slideshow": {
     "slide_type": "fragment"
    }
   },
   "source": [
    "$\\oint$ *No kernel gaussiano, temos uma dependência muito grande no valor de $\\sigma$ que escolhemos para as gaussianas que colocamos ao redor dos pontos. Não é trivial escolher a melhor, mas você pode fazer um hould-out dos seus dados para depois calcular a verossimilhança da amostra reservada com cada uma das escolhas de $\\sigma$ e ver qual tem melhor valor! ;)*\n",
    "\n",
    "![](images_infer/kde_2.jpg)\n",
    "\n",
    "Esse [vídeo](https://youtu.be/x5zLaWT5KPs) sobre o KDE é muito didático e útil."
   ]
  },
  {
   "cell_type": "markdown",
   "metadata": {
    "slideshow": {
     "slide_type": "-"
    }
   },
   "source": [
    "___"
   ]
  }
 ],
 "metadata": {
  "celltoolbar": "Slideshow",
  "kernelspec": {
   "display_name": "Python 3 (ipykernel)",
   "language": "python",
   "name": "python3"
  },
  "language_info": {
   "codemirror_mode": {
    "name": "ipython",
    "version": 3
   },
   "file_extension": ".py",
   "mimetype": "text/x-python",
   "name": "python",
   "nbconvert_exporter": "python",
   "pygments_lexer": "ipython3",
   "version": "3.9.6"
  }
 },
 "nbformat": 4,
 "nbformat_minor": 2
}
