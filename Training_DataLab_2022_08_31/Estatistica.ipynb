{
 "cells": [
  {
   "cell_type": "markdown",
   "metadata": {},
   "source": [
    "to do:\n",
    "\n",
    "como calcular a empirica: falar um pouco mais do KDE\n",
    "\n",
    "IC\n",
    "bootstrap\n",
    "\n",
    "teste de hipotese toy"
   ]
  },
  {
   "cell_type": "code",
   "execution_count": 1,
   "metadata": {},
   "outputs": [],
   "source": [
    "import pandas as pd\n",
    "import numpy as np\n",
    "import matplotlib.pyplot as  plt\n",
    "import math\n",
    "\n",
    "pd.set_option('display.max_columns', None)"
   ]
  },
  {
   "cell_type": "code",
   "execution_count": 2,
   "metadata": {},
   "outputs": [],
   "source": [
    "X1 = np.round(np.random.RandomState(42).normal(1.73,0.1,size=300), 2)"
   ]
  },
  {
   "cell_type": "markdown",
   "metadata": {},
   "source": [
    "___"
   ]
  },
  {
   "cell_type": "markdown",
   "metadata": {},
   "source": [
    "# Inferência Estatística"
   ]
  },
  {
   "cell_type": "markdown",
   "metadata": {},
   "source": [
    "**Inferência Estatística**: o processo de tirar conclusões sobre informações populacionais (ou seja, informações da variável aleatória $X$) a partir de uma amostra da população."
   ]
  },
  {
   "cell_type": "markdown",
   "metadata": {},
   "source": [
    "Imagine um cenário prático real. Suponha que estamos interessados em estimar a altura média da população brasileira. Poderíamos dar um jeito de registrar todos os mais de 200 milhões de habitantes em um super censo revolucionário. Entretanto, isso não parece muito barato e muitas vezes o valor exato não nos importa tanto, uma aproximação suficientemente boa já nos basta. Em outros casos, isso é simplesmente inviável.\n",
    "\n",
    "Um exemplo de inferência é selecionar alguns indivíduos brasileiros e tirar a média dessa subpopulação (amostra)."
   ]
  },
  {
   "cell_type": "code",
   "execution_count": 3,
   "metadata": {},
   "outputs": [],
   "source": [
    "# X1"
   ]
  },
  {
   "cell_type": "code",
   "execution_count": 4,
   "metadata": {},
   "outputs": [
    {
     "data": {
      "image/png": "[encoded data removed]",
      "text/plain": [
       "<Figure size 432x288 with 1 Axes>"
      ]
     },
     "metadata": {
      "needs_background": "light"
     },
     "output_type": "display_data"
    }
   ],
   "source": [
    "plt.hist(X1)\n",
    "plt.show()"
   ]
  },
  {
   "cell_type": "code",
   "execution_count": 28,
   "metadata": {},
   "outputs": [
    {
     "data": {
      "text/plain": [
       "1.7343"
      ]
     },
     "execution_count": 28,
     "metadata": {},
     "output_type": "execute_result"
    }
   ],
   "source": [
    "X1.mean().round(4)"
   ]
  },
  {
   "cell_type": "markdown",
   "metadata": {},
   "source": [
    "## Amostragem\n",
    "\n",
    "Mas como garantir que a distribuição da variável na nossa amostra é significativamente parecida com a distribuição da variável na população geral. Existem várias técnicas clássicas de amostragem que tentam garantir isso:"
   ]
  },
  {
   "cell_type": "markdown",
   "metadata": {},
   "source": [
    "- Amostragem Aleatória Simples\n",
    "\n",
    "Todos os elementos da população tem uma chance igual de serem selecionados."
   ]
  },
  {
   "cell_type": "markdown",
   "metadata": {},
   "source": [
    "- Amostragem Estratificada\n",
    "\n",
    "A distribuição de uma variável conhecida é mantida na amostra.\n",
    "\n",
    "![](images_infer/estr_sample.png)"
   ]
  },
  {
   "cell_type": "markdown",
   "metadata": {},
   "source": [
    "Na teoria de probabilidade, a ideia é pensar que cada uma das variáveis observadas é a observação de uma variável aleatória que tem distribuição igual a distribuição da população original. Quando tiramos uma amostra, estamos evaluando essas variáveis aleatórias."
   ]
  },
  {
   "cell_type": "markdown",
   "metadata": {},
   "source": [
    "**Definição** (amostra aleatória): Dizemos que o conjunto das variáveis aleatórias $X_1$, $\\cdots$, $X_n$ é **amostra aleatória de $X$ tamanho $n$** se são independentes e identicamente distribuídas com distribuição igual à da variável aleatória $X$."
   ]
  },
  {
   "cell_type": "markdown",
   "metadata": {},
   "source": [
    "Em estatística paramétrica, estamos supondo que a distribuição de $X$ pode ser parametrizada por algum argumento $\\theta\\in\\Theta\\subset \\mathbb{R}^n$.\n",
    "\n",
    "Neste caso, qualquer **quantidade de interesse** da população é escrita como $g(\\theta)$."
   ]
  },
  {
   "cell_type": "markdown",
   "metadata": {},
   "source": [
    "![](images_infer/amount_1.png)"
   ]
  },
  {
   "cell_type": "markdown",
   "metadata": {},
   "source": [
    "![](images_infer/amount_2.png)"
   ]
  },
  {
   "cell_type": "markdown",
   "metadata": {},
   "source": [
    "![](images_infer/amount_3.png)"
   ]
  },
  {
   "cell_type": "markdown",
   "metadata": {},
   "source": [
    "Estamos fazendo perguntas sobre um atributo populacional que não podemos medir diretamente. Mas podemos medir na nossa amostra observada.\n",
    "\n",
    "**Definição** (amostra observada): São os valores efetivamente observado após executar o experimento. Costuma ser denotado pela letra da variável aleatória minúscula\n",
    "\n",
    "$$ \\tilde{x} = (x_1,\\cdots,x_n).$$"
   ]
  },
  {
   "cell_type": "markdown",
   "metadata": {},
   "source": [
    "## Função de verossimilhança da amostra"
   ]
  },
  {
   "cell_type": "markdown",
   "metadata": {},
   "source": [
    "**Definição** (função de verossimilhança): Seja $(X_1,\\cdots,X_n)$ uma amostra aleatória de $X\\sim f_{\\theta}$, $\\theta \\in \\Theta$. A função de verossimilhança é a função (densidade) de probabilidade calculada no $\\tilde{x}$ observado. Neste caso, $\\theta$ é o argumento.\n",
    "\n",
    "$$ \\mathscr{L}_{\\tilde{x}}(\\theta) = f_\\theta(\\tilde{x}) = \\Pi_{i=1}^n f_\\theta(x_i) , $$\n",
    "\n",
    "ou\n",
    "\n",
    "$$ \\mathscr{L}_{\\tilde{x}}(\\theta) = P_\\theta(\\tilde{X} = \\tilde{x}) = \\Pi_{i=1}^n P_\\theta(X_i = x_i)  . $$\n",
    "\n",
    "Notação alternativa: $\\mathscr{L}(\\theta\\,; \\tilde{x}) $"
   ]
  },
  {
   "cell_type": "markdown",
   "metadata": {},
   "source": [
    "Lembrando que a amostra aleatória implica em independência. Por isso podemos quebrar $\\mathscr{L}_{\\tilde{x}}$ na multiplicação."
   ]
  },
  {
   "cell_type": "code",
   "execution_count": 6,
   "metadata": {},
   "outputs": [
    {
     "data": {
      "text/plain": [
       "-0.43986120432535625"
      ]
     },
     "execution_count": 6,
     "metadata": {},
     "output_type": "execute_result"
    }
   ],
   "source": [
    "theta = np.random.uniform(-1,1)\n",
    "theta"
   ]
  },
  {
   "cell_type": "markdown",
   "metadata": {},
   "source": [
    "$$ X \\sim f_\\theta(x) = \\frac{1}{\\sqrt{2\\pi}} \\,\\exp\\left({-\\frac{(x-\\theta)^2}{2}}  \\right),\\,\\,\\, \\theta\\in(-1,1)\\subset\\mathbb{R}$$"
   ]
  },
  {
   "cell_type": "code",
   "execution_count": 7,
   "metadata": {},
   "outputs": [],
   "source": [
    "X2 = np.random.normal(theta,1,size=100)"
   ]
  },
  {
   "cell_type": "code",
   "execution_count": 8,
   "metadata": {},
   "outputs": [],
   "source": [
    "# X2"
   ]
  },
  {
   "cell_type": "code",
   "execution_count": 9,
   "metadata": {},
   "outputs": [],
   "source": [
    "def densidade_normal(theta, x):\n",
    "    return 1/(np.sqrt(2*np.pi))*np.exp(-(x-theta)**2/2)"
   ]
  },
  {
   "cell_type": "code",
   "execution_count": 10,
   "metadata": {},
   "outputs": [
    {
     "data": {
      "text/plain": [
       "0.3989422804014327"
      ]
     },
     "execution_count": 10,
     "metadata": {},
     "output_type": "execute_result"
    }
   ],
   "source": [
    "densidade_normal(0,0)"
   ]
  },
  {
   "cell_type": "code",
   "execution_count": 11,
   "metadata": {},
   "outputs": [],
   "source": [
    "def verossimilhanca(theta, vetor_x, densidade):\n",
    "    aux = 1\n",
    "    for x in vetor_x:\n",
    "        aux*=densidade(theta,x)\n",
    "    return aux"
   ]
  },
  {
   "cell_type": "code",
   "execution_count": 12,
   "metadata": {},
   "outputs": [],
   "source": [
    "valores_theta = np.linspace(-1,1,1000)\n",
    "ver = verossimilhanca(valores_theta, X2, densidade_normal)"
   ]
  },
  {
   "cell_type": "code",
   "execution_count": 13,
   "metadata": {},
   "outputs": [
    {
     "data": {
      "image/png": "[encoded data removed]",
      "text/plain": [
       "<Figure size 432x288 with 1 Axes>"
      ]
     },
     "metadata": {
      "needs_background": "light"
     },
     "output_type": "display_data"
    }
   ],
   "source": [
    "plt.plot(valores_theta, ver)\n",
    "plt.show()"
   ]
  },
  {
   "cell_type": "markdown",
   "metadata": {},
   "source": [
    "## Estimadores e estimativas"
   ]
  },
  {
   "cell_type": "markdown",
   "metadata": {},
   "source": [
    "**Definição** (estimativa): Uma estatística é uma função da amostra aleatória."
   ]
  },
  {
   "cell_type": "markdown",
   "metadata": {},
   "source": [
    "![](images_infer/estimators.png)"
   ]
  },
  {
   "cell_type": "markdown",
   "metadata": {},
   "source": [
    "Em que denoto a função indicadora tal que $\\mathbb{1}(\\textrm{True})=1$ e $\\mathbb{1}(\\textrm{False})=0$."
   ]
  },
  {
   "cell_type": "markdown",
   "metadata": {},
   "source": [
    "**Definição** (estimador pontual): Um **estimador** é uma estatística cujo objetivo é estimar uma quantidade $g(\\theta)$."
   ]
  },
  {
   "cell_type": "markdown",
   "metadata": {},
   "source": [
    "**Definição** (estimativa): Uma estimativa é o valor numérico de um estimador que foi calculado usando a amostra observada."
   ]
  },
  {
   "cell_type": "markdown",
   "metadata": {},
   "source": [
    "![](images_infer/estimate.png)"
   ]
  },
  {
   "cell_type": "markdown",
   "metadata": {},
   "source": [
    "Uma parte da estatística está interessada em construir estimadores com propriedades boas! Uma das técnicas é utilizar o método de máxima verossimilhança."
   ]
  },
  {
   "cell_type": "markdown",
   "metadata": {},
   "source": [
    "## Máxima verossimilhança"
   ]
  },
  {
   "cell_type": "markdown",
   "metadata": {},
   "source": [
    "Neste método, encontramos o $\\theta$ que melhor se adapta $\\tilde{x}$ aos dados observados ,aos olhos da verossimilhança $\\mathscr{L}_{\\tilde{x}}(\\theta)$. Isto é, o valor que máxima essa quantidade. Denotamos o $\\theta$ estimado por $\\widehat{\\theta}_{MV}$. Com isso, conseguimos calcular a estimativa de máxima verossimilhança de $g(\\theta)$ como $g(\\widehat{\\theta}_{MV})$."
   ]
  },
  {
   "cell_type": "markdown",
   "metadata": {},
   "source": [
    "Para achar o argumento $\\theta$ que maximiza $\\mathscr{L}_{\\tilde{x}}(\\theta)$ podemos usar várias estratégias de maximização. \n",
    "\n",
    "Usualmente, achamos a raíz da equação\n",
    "\n",
    "$$ \\frac{d}{d\\theta} \\mathscr{L}_{\\tilde{x}}(\\theta) = 0 .$$\n",
    "\n",
    "Nem sempre isso é trivial, como $\\mathscr{L}_{\\tilde{x}}(\\theta)\\geq 0$ já que uma função densidade de probabilidade, podemos aplicar a função $\\log(\\cdot)$ (uma função monótona) e maximizar\n",
    "\n",
    "$$ \\log\\left(  \\mathscr{L}_{\\tilde{x}}(\\theta) \\right)= \\sum_{i=1}^n \\log\\left( f_\\theta(x_i)  \\right) .$$\n",
    "\n",
    "Em outros casos pode ser preciso usar métodos numéricos para achar a raíz dessa equação."
   ]
  },
  {
   "cell_type": "markdown",
   "metadata": {},
   "source": [
    "**Exemplo**: Suponha que estamos analisando o tempo de ligações de uma determinada empresa. Por algum motivo é razoável querer entender qual a probabilidade das ligações demorarem entre 4 e 5 minutos.\n",
    "\n",
    "Nos é fornecido a seguinte amostra aleatória de 20 elementos de tempo de ligações:"
   ]
  },
  {
   "cell_type": "code",
   "execution_count": 14,
   "metadata": {},
   "outputs": [],
   "source": [
    "X3 = np.array([0.202, 5.3267, 0.8842, 1.8331, 0.5744, 0.1402,\n",
    "               5.119, 3.1183, 5.569, 0.7165, 0.365, 0.2521,\n",
    "               1.5503, 1.2344, 3.6096, 0.3423, 5.0797,\n",
    "               7.9643, 0.2668, 3.3204])"
   ]
  },
  {
   "cell_type": "code",
   "execution_count": 15,
   "metadata": {},
   "outputs": [
    {
     "data": {
      "image/png": "[encoded data removed]",
      "text/plain": [
       "<Figure size 432x288 with 1 Axes>"
      ]
     },
     "metadata": {
      "needs_background": "light"
     },
     "output_type": "display_data"
    }
   ],
   "source": [
    "plt.hist(X3,density=True)\n",
    "plt.show()"
   ]
  },
  {
   "cell_type": "markdown",
   "metadata": {},
   "source": [
    "![](images_infer/estimator_prob_1.png)"
   ]
  },
  {
   "cell_type": "code",
   "execution_count": 16,
   "metadata": {},
   "outputs": [
    {
     "data": {
      "text/plain": [
       "array([False, False, False, False, False, False, False, False, False,\n",
       "       False, False, False, False, False, False, False, False, False,\n",
       "       False, False])"
      ]
     },
     "execution_count": 16,
     "metadata": {},
     "output_type": "execute_result"
    }
   ],
   "source": [
    "(X3>4) & (X3<5)"
   ]
  },
  {
   "cell_type": "code",
   "execution_count": 17,
   "metadata": {},
   "outputs": [
    {
     "data": {
      "text/plain": [
       "0"
      ]
     },
     "execution_count": 17,
     "metadata": {},
     "output_type": "execute_result"
    }
   ],
   "source": [
    "((X3>4) & (X3<5)).sum()"
   ]
  },
  {
   "cell_type": "markdown",
   "metadata": {},
   "source": [
    "Podemos supor que os dados fazem parte de uma distribuição exponencial. A partir disso podemos estimar $\\theta$ e calcular uma estimativa para $g(\\theta)$.\n",
    "\n",
    "![](images_infer/estimator_prob_2.png)"
   ]
  },
  {
   "cell_type": "code",
   "execution_count": 18,
   "metadata": {},
   "outputs": [],
   "source": [
    "def densidade_exponencial(theta, x):\n",
    "    return theta*np.exp(-theta*x)"
   ]
  },
  {
   "cell_type": "code",
   "execution_count": 19,
   "metadata": {},
   "outputs": [],
   "source": [
    "valores_theta = np.linspace(0,2,1000)\n",
    "ver = verossimilhanca(valores_theta, X3, densidade_exponencial)"
   ]
  },
  {
   "cell_type": "code",
   "execution_count": 20,
   "metadata": {},
   "outputs": [
    {
     "data": {
      "image/png": "[encoded data removed]",
      "text/plain": [
       "<Figure size 432x288 with 1 Axes>"
      ]
     },
     "metadata": {
      "needs_background": "light"
     },
     "output_type": "display_data"
    }
   ],
   "source": [
    "plt.plot(valores_theta, ver)\n",
    "plt.vlines(valores_theta[np.argmax(ver)],np.min(ver),verossimilhanca(valores_theta[np.argmax(ver)], X3, densidade_exponencial))\n",
    "plt.show()"
   ]
  },
  {
   "cell_type": "code",
   "execution_count": 21,
   "metadata": {},
   "outputs": [
    {
     "data": {
      "text/plain": [
       "0.42042042042042044"
      ]
     },
     "execution_count": 21,
     "metadata": {},
     "output_type": "execute_result"
    }
   ],
   "source": [
    "valores_theta[np.argmax(ver)]"
   ]
  },
  {
   "cell_type": "code",
   "execution_count": 22,
   "metadata": {},
   "outputs": [
    {
     "data": {
      "image/png": "[encoded data removed]",
      "text/plain": [
       "<Figure size 432x288 with 1 Axes>"
      ]
     },
     "metadata": {
      "needs_background": "light"
     },
     "output_type": "display_data"
    }
   ],
   "source": [
    "plt.hist(X3,density=True)\n",
    "plt.plot(np.linspace(0,10),densidade_exponencial(valores_theta[np.argmax(ver)], np.linspace(0,10)))\n",
    "plt.show()"
   ]
  },
  {
   "cell_type": "code",
   "execution_count": 23,
   "metadata": {},
   "outputs": [
    {
     "data": {
      "text/plain": [
       "0.06386153502253891"
      ]
     },
     "execution_count": 23,
     "metadata": {},
     "output_type": "execute_result"
    }
   ],
   "source": [
    "np.exp(-4*valores_theta[np.argmax(ver)])-np.exp(-5*valores_theta[np.argmax(ver)])"
   ]
  },
  {
   "cell_type": "markdown",
   "metadata": {},
   "source": [
    "## Motivação para intervalos de confiança\n",
    "\n",
    "Tudo bem, achamos uma estimativa **pontual** para nossa quantidade desejada $g(\\theta)$. Sabemos que provavelmente esse não é o valor perfeito. Nossa estimativa depende da amostra que coletamos e existe uma aleatoriedade que nos diz que essa estimativa pode variar cada vez que realizamos o experimento. Em muitos casos, conseguimos estimar essas variações e calcular intervalos de confiaça que nos permitem acreditar que nossa quantidade desejada real está em um certo intervalo com alta probabilidade.\n",
    "\n",
    "A partir desses intervalos, podemos construir testes de hipótese validando se nossas estimativas pontuais são razoáveis."
   ]
  },
  {
   "cell_type": "code",
   "execution_count": 24,
   "metadata": {},
   "outputs": [],
   "source": [
    "theta=3"
   ]
  },
  {
   "cell_type": "code",
   "execution_count": 25,
   "metadata": {},
   "outputs": [
    {
     "data": {
      "text/plain": [
       "2.9848781515052822"
      ]
     },
     "execution_count": 25,
     "metadata": {},
     "output_type": "execute_result"
    }
   ],
   "source": [
    "np.random.normal(theta,1,size=50).mean()"
   ]
  },
  {
   "cell_type": "code",
   "execution_count": 26,
   "metadata": {},
   "outputs": [
    {
     "data": {
      "image/png": "[encoded data removed]",
      "text/plain": [
       "<Figure size 432x288 with 1 Axes>"
      ]
     },
     "metadata": {
      "needs_background": "light"
     },
     "output_type": "display_data"
    }
   ],
   "source": [
    "media_amostra = []\n",
    "for i in range(10000):\n",
    "    amostra = np.random.normal(theta,1,size=50)\n",
    "    media_amostra.append(amostra.mean())\n",
    "    \n",
    "media_amostra=np.array(media_amostra)\n",
    "plt.hist(media_amostra)\n",
    "plt.show()"
   ]
  },
  {
   "cell_type": "code",
   "execution_count": 27,
   "metadata": {},
   "outputs": [
    {
     "data": {
      "text/plain": [
       "0.9671"
      ]
     },
     "execution_count": 27,
     "metadata": {},
     "output_type": "execute_result"
    }
   ],
   "source": [
    "((media_amostra > 2.7) & (media_amostra<3.3)).sum()/10000"
   ]
  },
  {
   "cell_type": "markdown",
   "metadata": {},
   "source": [
    "obs: O valor de $\\theta$ nos caracteriza unicamente a função (densidade) de probabilidade $f_\\theta$ que postulamos fazer sentido. Em outros momentos, podemos não ter uma cara razoável para a função (densidade) de probabilidade e nesse contexto costumamos usar técnicas não paramétricas diferentes.\n",
    "\n",
    "Uma boa introdução à esse problema é estudar sobre o KDE. https://youtu.be/x5zLaWT5KPs\n",
    "\n",
    "![](images_infer/kde_1.jpg)\n",
    "![](images_infer/kde_2.jpg)"
   ]
  }
 ],
 "metadata": {
  "kernelspec": {
   "display_name": "Python 3 (ipykernel)",
   "language": "python",
   "name": "python3"
  },
  "language_info": {
   "codemirror_mode": {
    "name": "ipython",
    "version": 3
   },
   "file_extension": ".py",
   "mimetype": "text/x-python",
   "name": "python",
   "nbconvert_exporter": "python",
   "pygments_lexer": "ipython3",
   "version": "3.9.6"
  }
 },
 "nbformat": 4,
 "nbformat_minor": 2
}
